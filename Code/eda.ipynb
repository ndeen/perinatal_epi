{
 "cells": [
  {
   "cell_type": "markdown",
   "metadata": {},
   "source": [
    "EXPOSURE: Maternal Decision-Making Autonomy\n",
    "\n",
    "OUTCOME: Mode of Delivery\n",
    "\n",
    "Variable Definitions:\n",
    "\n",
    "* LTMID - Listening to Mothers ID number\n",
    "* Q610 - In all how many babies have you had? Please include your new baby. (inclusion criteria - first pregnancies)\n",
    "* Q885 - During your pregnancy did you ask your maternity care provider to schedule a c-section before the start of labor (before regular contractions)? (do we need to account for \"intent\" to have a c-section?)\n",
    "* Q1250 Was the c-section planned ahead of time that is was the decision to have a c-section made before you went into labor? (inclusion criteria)\n",
    "* Q1255 - What was the main reason for your recent c-section? (Primary c-section)\n",
    "* insurance - Insurance during pregnancy (demographic)\n",
    "* racegrp - race/ethnicity\n",
    "* Q1860 - What is the highest level of education you have completed or the highest degree you have received?\n",
    "* inccat - Income as a categorical percent of Federal Poverty Guideline in 2016 (FPG)taxes?\n",
    "\n",
    "**Maternal Autonomy**\n",
    "\n",
    "* Q1325a - How much do you agree with the following statements about your recent experience of labor and birth? The delivery room staff encouraged me to make decisions about how I wanted my birth to progress.\n",
    "\n",
    "**Mode of Delivery**\n",
    "\n",
    "* Q1115 - When you recently gave birth was your baby born vaginally or by c-section? (outcome)\n"
   ]
  },
  {
   "cell_type": "code",
   "execution_count": 31,
   "metadata": {},
   "outputs": [],
   "source": [
    "import pandas as pd\n",
    "import numpy as np\n",
    "import statsmodels.api as sm\n",
    "from statsmodels.formula.api import logit, probit, poisson, ols"
   ]
  },
  {
   "cell_type": "code",
   "execution_count": 5,
   "metadata": {},
   "outputs": [
    {
     "data": {
      "text/html": [
       "<div>\n",
       "<style scoped>\n",
       "    .dataframe tbody tr th:only-of-type {\n",
       "        vertical-align: middle;\n",
       "    }\n",
       "\n",
       "    .dataframe tbody tr th {\n",
       "        vertical-align: top;\n",
       "    }\n",
       "\n",
       "    .dataframe thead th {\n",
       "        text-align: right;\n",
       "    }\n",
       "</style>\n",
       "<table border=\"1\" class=\"dataframe\">\n",
       "  <thead>\n",
       "    <tr style=\"text-align: right;\">\n",
       "      <th></th>\n",
       "      <th>LTMID</th>\n",
       "      <th>mode</th>\n",
       "      <th>Q_Language</th>\n",
       "      <th>Q510a</th>\n",
       "      <th>Q520</th>\n",
       "      <th>Q610</th>\n",
       "      <th>Q705</th>\n",
       "      <th>Q715</th>\n",
       "      <th>Q716</th>\n",
       "      <th>Q740</th>\n",
       "      <th>...</th>\n",
       "      <th>workagef</th>\n",
       "      <th>height</th>\n",
       "      <th>wtgain</th>\n",
       "      <th>WtBeforePreg</th>\n",
       "      <th>bmi</th>\n",
       "      <th>currentwt</th>\n",
       "      <th>fampctpov</th>\n",
       "      <th>inccat</th>\n",
       "      <th>sampwt</th>\n",
       "      <th>statewt</th>\n",
       "    </tr>\n",
       "  </thead>\n",
       "  <tbody>\n",
       "    <tr>\n",
       "      <th>0</th>\n",
       "      <td>70001n</td>\n",
       "      <td>1</td>\n",
       "      <td>EN</td>\n",
       "      <td>1.0</td>\n",
       "      <td>1</td>\n",
       "      <td>2</td>\n",
       "      <td>1.0</td>\n",
       "      <td>5.0</td>\n",
       "      <td>NaN</td>\n",
       "      <td>3.0</td>\n",
       "      <td>...</td>\n",
       "      <td>NaN</td>\n",
       "      <td>60.0</td>\n",
       "      <td>0.0</td>\n",
       "      <td>198.0</td>\n",
       "      <td>38.67</td>\n",
       "      <td>187.0</td>\n",
       "      <td>74.074074</td>\n",
       "      <td>1.0</td>\n",
       "      <td>19.950387</td>\n",
       "      <td>65.930595</td>\n",
       "    </tr>\n",
       "    <tr>\n",
       "      <th>1</th>\n",
       "      <td>70002m</td>\n",
       "      <td>1</td>\n",
       "      <td>EN</td>\n",
       "      <td>2.0</td>\n",
       "      <td>1</td>\n",
       "      <td>2</td>\n",
       "      <td>1.0</td>\n",
       "      <td>3.0</td>\n",
       "      <td>2.0</td>\n",
       "      <td>3.0</td>\n",
       "      <td>...</td>\n",
       "      <td>26.0</td>\n",
       "      <td>68.0</td>\n",
       "      <td>23.0</td>\n",
       "      <td>150.0</td>\n",
       "      <td>22.81</td>\n",
       "      <td>145.0</td>\n",
       "      <td>425.925926</td>\n",
       "      <td>5.0</td>\n",
       "      <td>30.288510</td>\n",
       "      <td>100.095275</td>\n",
       "    </tr>\n",
       "    <tr>\n",
       "      <th>2</th>\n",
       "      <td>70003n</td>\n",
       "      <td>1</td>\n",
       "      <td>ES</td>\n",
       "      <td>3.0</td>\n",
       "      <td>2</td>\n",
       "      <td>4</td>\n",
       "      <td>1.0</td>\n",
       "      <td>1.0</td>\n",
       "      <td>1.0</td>\n",
       "      <td>1.0</td>\n",
       "      <td>...</td>\n",
       "      <td>NaN</td>\n",
       "      <td>60.0</td>\n",
       "      <td>10.0</td>\n",
       "      <td>148.0</td>\n",
       "      <td>28.90</td>\n",
       "      <td>154.0</td>\n",
       "      <td>24.554942</td>\n",
       "      <td>1.0</td>\n",
       "      <td>23.204468</td>\n",
       "      <td>76.684446</td>\n",
       "    </tr>\n",
       "    <tr>\n",
       "      <th>3</th>\n",
       "      <td>70006c</td>\n",
       "      <td>2</td>\n",
       "      <td>EN</td>\n",
       "      <td>1.0</td>\n",
       "      <td>2</td>\n",
       "      <td>4</td>\n",
       "      <td>2.0</td>\n",
       "      <td>4.0</td>\n",
       "      <td>NaN</td>\n",
       "      <td>1.0</td>\n",
       "      <td>...</td>\n",
       "      <td>NaN</td>\n",
       "      <td>64.0</td>\n",
       "      <td>25.0</td>\n",
       "      <td>90.0</td>\n",
       "      <td>15.45</td>\n",
       "      <td>120.0</td>\n",
       "      <td>63.291139</td>\n",
       "      <td>1.0</td>\n",
       "      <td>21.639044</td>\n",
       "      <td>71.511148</td>\n",
       "    </tr>\n",
       "    <tr>\n",
       "      <th>4</th>\n",
       "      <td>70007s</td>\n",
       "      <td>3</td>\n",
       "      <td>EN</td>\n",
       "      <td>3.0</td>\n",
       "      <td>1</td>\n",
       "      <td>4</td>\n",
       "      <td>1.0</td>\n",
       "      <td>4.0</td>\n",
       "      <td>NaN</td>\n",
       "      <td>3.0</td>\n",
       "      <td>...</td>\n",
       "      <td>NaN</td>\n",
       "      <td>65.0</td>\n",
       "      <td>16.0</td>\n",
       "      <td>182.0</td>\n",
       "      <td>30.29</td>\n",
       "      <td>189.0</td>\n",
       "      <td>191.835482</td>\n",
       "      <td>2.0</td>\n",
       "      <td>20.981247</td>\n",
       "      <td>69.337307</td>\n",
       "    </tr>\n",
       "  </tbody>\n",
       "</table>\n",
       "<p>5 rows × 255 columns</p>\n",
       "</div>"
      ],
      "text/plain": [
       "    LTMID  mode Q_Language  Q510a  Q520  Q610  Q705  Q715  Q716  Q740  ...  \\\n",
       "0  70001n     1         EN    1.0     1     2   1.0   5.0   NaN   3.0  ...   \n",
       "1  70002m     1         EN    2.0     1     2   1.0   3.0   2.0   3.0  ...   \n",
       "2  70003n     1         ES    3.0     2     4   1.0   1.0   1.0   1.0  ...   \n",
       "3  70006c     2         EN    1.0     2     4   2.0   4.0   NaN   1.0  ...   \n",
       "4  70007s     3         EN    3.0     1     4   1.0   4.0   NaN   3.0  ...   \n",
       "\n",
       "   workagef  height  wtgain  WtBeforePreg    bmi  currentwt   fampctpov  \\\n",
       "0       NaN    60.0     0.0         198.0  38.67      187.0   74.074074   \n",
       "1      26.0    68.0    23.0         150.0  22.81      145.0  425.925926   \n",
       "2       NaN    60.0    10.0         148.0  28.90      154.0   24.554942   \n",
       "3       NaN    64.0    25.0          90.0  15.45      120.0   63.291139   \n",
       "4       NaN    65.0    16.0         182.0  30.29      189.0  191.835482   \n",
       "\n",
       "   inccat     sampwt     statewt  \n",
       "0     1.0  19.950387   65.930595  \n",
       "1     5.0  30.288510  100.095275  \n",
       "2     1.0  23.204468   76.684446  \n",
       "3     1.0  21.639044   71.511148  \n",
       "4     2.0  20.981247   69.337307  \n",
       "\n",
       "[5 rows x 255 columns]"
      ]
     },
     "execution_count": 5,
     "metadata": {},
     "output_type": "execute_result"
    }
   ],
   "source": [
    "filepath = r\"C:\\Users\\Nigel\\Git\\perinatal_epi\\Data\\LTMdata.Public VersionFINAL.csv\"\n",
    "\n",
    "df = pd.read_csv(filepath)\n",
    "df.head()"
   ]
  },
  {
   "cell_type": "code",
   "execution_count": 6,
   "metadata": {},
   "outputs": [],
   "source": [
    "cols = ['LTMID','Q1115', 'Q1250','Q1325a']\n",
    "# mode of delivery, unplanned v. planned c-section, autonomy proxy\n",
    "\n",
    "sample_df = df[cols].rename(columns={'Q1115':'MoD','Q1325a':'autonomy'})"
   ]
  },
  {
   "cell_type": "code",
   "execution_count": 7,
   "metadata": {},
   "outputs": [
    {
     "data": {
      "text/plain": [
       "autonomy\n",
       "1.0    1069\n",
       "2.0     492\n",
       "3.0     304\n",
       "4.0     106\n",
       "5.0      96\n",
       "Name: LTMID, dtype: int64"
      ]
     },
     "execution_count": 7,
     "metadata": {},
     "output_type": "execute_result"
    }
   ],
   "source": [
    "# autonomy freq\n",
    "sample_df.groupby(['autonomy'])['LTMID'].count()"
   ]
  },
  {
   "cell_type": "code",
   "execution_count": 8,
   "metadata": {},
   "outputs": [
    {
     "data": {
      "text/plain": [
       "Q1250\n",
       "1.0    406\n",
       "2.0    320\n",
       "Name: LTMID, dtype: int64"
      ]
     },
     "execution_count": 8,
     "metadata": {},
     "output_type": "execute_result"
    }
   ],
   "source": [
    "# planned v. unplanned freq\n",
    "sample_df.groupby(['Q1250'])['LTMID'].count()"
   ]
  },
  {
   "cell_type": "code",
   "execution_count": 9,
   "metadata": {},
   "outputs": [
    {
     "data": {
      "text/plain": [
       "MoD\n",
       "1.0    1799\n",
       "2.0     730\n",
       "Name: LTMID, dtype: int64"
      ]
     },
     "execution_count": 9,
     "metadata": {},
     "output_type": "execute_result"
    }
   ],
   "source": [
    "# mode of delivery freq\n",
    "sample_df.groupby(['MoD'])['LTMID'].count()"
   ]
  },
  {
   "cell_type": "code",
   "execution_count": 10,
   "metadata": {},
   "outputs": [
    {
     "data": {
      "text/plain": [
       "LTMID          0\n",
       "MoD           10\n",
       "Q1250       1813\n",
       "autonomy     472\n",
       "dtype: int64"
      ]
     },
     "execution_count": 10,
     "metadata": {},
     "output_type": "execute_result"
    }
   ],
   "source": [
    "sample_df.isnull().sum(axis=0)"
   ]
  },
  {
   "cell_type": "code",
   "execution_count": 11,
   "metadata": {},
   "outputs": [
    {
     "data": {
      "text/plain": [
       "2539"
      ]
     },
     "execution_count": 11,
     "metadata": {},
     "output_type": "execute_result"
    }
   ],
   "source": [
    "len(sample_df)"
   ]
  },
  {
   "cell_type": "code",
   "execution_count": 12,
   "metadata": {},
   "outputs": [
    {
     "data": {
      "text/html": [
       "<div>\n",
       "<style scoped>\n",
       "    .dataframe tbody tr th:only-of-type {\n",
       "        vertical-align: middle;\n",
       "    }\n",
       "\n",
       "    .dataframe tbody tr th {\n",
       "        vertical-align: top;\n",
       "    }\n",
       "\n",
       "    .dataframe thead th {\n",
       "        text-align: right;\n",
       "    }\n",
       "</style>\n",
       "<table border=\"1\" class=\"dataframe\">\n",
       "  <thead>\n",
       "    <tr style=\"text-align: right;\">\n",
       "      <th></th>\n",
       "      <th>LTMID</th>\n",
       "      <th>MoD</th>\n",
       "      <th>Q1250</th>\n",
       "      <th>autonomy</th>\n",
       "    </tr>\n",
       "  </thead>\n",
       "  <tbody>\n",
       "    <tr>\n",
       "      <th>0</th>\n",
       "      <td>70001n</td>\n",
       "      <td>1.0</td>\n",
       "      <td>NaN</td>\n",
       "      <td>1.0</td>\n",
       "    </tr>\n",
       "    <tr>\n",
       "      <th>1</th>\n",
       "      <td>70002m</td>\n",
       "      <td>1.0</td>\n",
       "      <td>NaN</td>\n",
       "      <td>1.0</td>\n",
       "    </tr>\n",
       "    <tr>\n",
       "      <th>2</th>\n",
       "      <td>70003n</td>\n",
       "      <td>1.0</td>\n",
       "      <td>NaN</td>\n",
       "      <td>1.0</td>\n",
       "    </tr>\n",
       "    <tr>\n",
       "      <th>3</th>\n",
       "      <td>70006c</td>\n",
       "      <td>1.0</td>\n",
       "      <td>NaN</td>\n",
       "      <td>5.0</td>\n",
       "    </tr>\n",
       "    <tr>\n",
       "      <th>4</th>\n",
       "      <td>70007s</td>\n",
       "      <td>1.0</td>\n",
       "      <td>NaN</td>\n",
       "      <td>2.0</td>\n",
       "    </tr>\n",
       "    <tr>\n",
       "      <th>5</th>\n",
       "      <td>70008m</td>\n",
       "      <td>1.0</td>\n",
       "      <td>NaN</td>\n",
       "      <td>1.0</td>\n",
       "    </tr>\n",
       "    <tr>\n",
       "      <th>6</th>\n",
       "      <td>70010x</td>\n",
       "      <td>1.0</td>\n",
       "      <td>NaN</td>\n",
       "      <td>3.0</td>\n",
       "    </tr>\n",
       "    <tr>\n",
       "      <th>7</th>\n",
       "      <td>70013m</td>\n",
       "      <td>1.0</td>\n",
       "      <td>NaN</td>\n",
       "      <td>1.0</td>\n",
       "    </tr>\n",
       "    <tr>\n",
       "      <th>8</th>\n",
       "      <td>70016u</td>\n",
       "      <td>1.0</td>\n",
       "      <td>NaN</td>\n",
       "      <td>3.0</td>\n",
       "    </tr>\n",
       "    <tr>\n",
       "      <th>9</th>\n",
       "      <td>70017r</td>\n",
       "      <td>1.0</td>\n",
       "      <td>NaN</td>\n",
       "      <td>2.0</td>\n",
       "    </tr>\n",
       "    <tr>\n",
       "      <th>11</th>\n",
       "      <td>70019z</td>\n",
       "      <td>1.0</td>\n",
       "      <td>NaN</td>\n",
       "      <td>3.0</td>\n",
       "    </tr>\n",
       "    <tr>\n",
       "      <th>12</th>\n",
       "      <td>70020n</td>\n",
       "      <td>1.0</td>\n",
       "      <td>NaN</td>\n",
       "      <td>1.0</td>\n",
       "    </tr>\n",
       "    <tr>\n",
       "      <th>13</th>\n",
       "      <td>70023x</td>\n",
       "      <td>1.0</td>\n",
       "      <td>NaN</td>\n",
       "      <td>4.0</td>\n",
       "    </tr>\n",
       "    <tr>\n",
       "      <th>14</th>\n",
       "      <td>70028q</td>\n",
       "      <td>1.0</td>\n",
       "      <td>NaN</td>\n",
       "      <td>3.0</td>\n",
       "    </tr>\n",
       "    <tr>\n",
       "      <th>15</th>\n",
       "      <td>70030p</td>\n",
       "      <td>1.0</td>\n",
       "      <td>NaN</td>\n",
       "      <td>2.0</td>\n",
       "    </tr>\n",
       "    <tr>\n",
       "      <th>16</th>\n",
       "      <td>70033v</td>\n",
       "      <td>1.0</td>\n",
       "      <td>NaN</td>\n",
       "      <td>1.0</td>\n",
       "    </tr>\n",
       "    <tr>\n",
       "      <th>17</th>\n",
       "      <td>70034s</td>\n",
       "      <td>1.0</td>\n",
       "      <td>NaN</td>\n",
       "      <td>1.0</td>\n",
       "    </tr>\n",
       "    <tr>\n",
       "      <th>18</th>\n",
       "      <td>70035u</td>\n",
       "      <td>1.0</td>\n",
       "      <td>NaN</td>\n",
       "      <td>2.0</td>\n",
       "    </tr>\n",
       "    <tr>\n",
       "      <th>19</th>\n",
       "      <td>70039u</td>\n",
       "      <td>1.0</td>\n",
       "      <td>NaN</td>\n",
       "      <td>4.0</td>\n",
       "    </tr>\n",
       "    <tr>\n",
       "      <th>20</th>\n",
       "      <td>70040y</td>\n",
       "      <td>1.0</td>\n",
       "      <td>NaN</td>\n",
       "      <td>1.0</td>\n",
       "    </tr>\n",
       "  </tbody>\n",
       "</table>\n",
       "</div>"
      ],
      "text/plain": [
       "     LTMID  MoD  Q1250  autonomy\n",
       "0   70001n  1.0    NaN       1.0\n",
       "1   70002m  1.0    NaN       1.0\n",
       "2   70003n  1.0    NaN       1.0\n",
       "3   70006c  1.0    NaN       5.0\n",
       "4   70007s  1.0    NaN       2.0\n",
       "5   70008m  1.0    NaN       1.0\n",
       "6   70010x  1.0    NaN       3.0\n",
       "7   70013m  1.0    NaN       1.0\n",
       "8   70016u  1.0    NaN       3.0\n",
       "9   70017r  1.0    NaN       2.0\n",
       "11  70019z  1.0    NaN       3.0\n",
       "12  70020n  1.0    NaN       1.0\n",
       "13  70023x  1.0    NaN       4.0\n",
       "14  70028q  1.0    NaN       3.0\n",
       "15  70030p  1.0    NaN       2.0\n",
       "16  70033v  1.0    NaN       1.0\n",
       "17  70034s  1.0    NaN       1.0\n",
       "18  70035u  1.0    NaN       2.0\n",
       "19  70039u  1.0    NaN       4.0\n",
       "20  70040y  1.0    NaN       1.0"
      ]
     },
     "execution_count": 12,
     "metadata": {},
     "output_type": "execute_result"
    }
   ],
   "source": [
    "# drop missing values for exposure and explanatory variables\n",
    "sample_df = sample_df.dropna(subset=['MoD','autonomy'])\n",
    "sample_df.head(20)"
   ]
  },
  {
   "cell_type": "code",
   "execution_count": 13,
   "metadata": {},
   "outputs": [
    {
     "data": {
      "text/plain": [
       "2067"
      ]
     },
     "execution_count": 13,
     "metadata": {},
     "output_type": "execute_result"
    }
   ],
   "source": [
    "len(sample_df)"
   ]
  },
  {
   "cell_type": "code",
   "execution_count": 14,
   "metadata": {},
   "outputs": [],
   "source": [
    "# create combined column for autonomy (strongly agree and agree + all others)\n",
    "sample_df['autonomy_'] = np.where(((sample_df['autonomy'] == 1) | (sample_df['autonomy'] == 2)), 1, 0)"
   ]
  },
  {
   "cell_type": "code",
   "execution_count": 15,
   "metadata": {},
   "outputs": [
    {
     "data": {
      "text/plain": [
       "2067"
      ]
     },
     "execution_count": 15,
     "metadata": {},
     "output_type": "execute_result"
    }
   ],
   "source": [
    "len(sample_df)"
   ]
  },
  {
   "cell_type": "code",
   "execution_count": 16,
   "metadata": {},
   "outputs": [
    {
     "data": {
      "text/html": [
       "<div>\n",
       "<style scoped>\n",
       "    .dataframe tbody tr th:only-of-type {\n",
       "        vertical-align: middle;\n",
       "    }\n",
       "\n",
       "    .dataframe tbody tr th {\n",
       "        vertical-align: top;\n",
       "    }\n",
       "\n",
       "    .dataframe thead th {\n",
       "        text-align: right;\n",
       "    }\n",
       "</style>\n",
       "<table border=\"1\" class=\"dataframe\">\n",
       "  <thead>\n",
       "    <tr style=\"text-align: right;\">\n",
       "      <th></th>\n",
       "      <th>LTMID</th>\n",
       "      <th>MoD</th>\n",
       "      <th>Q1250</th>\n",
       "      <th>autonomy</th>\n",
       "      <th>autonomy_</th>\n",
       "    </tr>\n",
       "  </thead>\n",
       "  <tbody>\n",
       "    <tr>\n",
       "      <th>0</th>\n",
       "      <td>70001n</td>\n",
       "      <td>1.0</td>\n",
       "      <td>NaN</td>\n",
       "      <td>1.0</td>\n",
       "      <td>1</td>\n",
       "    </tr>\n",
       "    <tr>\n",
       "      <th>1</th>\n",
       "      <td>70002m</td>\n",
       "      <td>1.0</td>\n",
       "      <td>NaN</td>\n",
       "      <td>1.0</td>\n",
       "      <td>1</td>\n",
       "    </tr>\n",
       "    <tr>\n",
       "      <th>2</th>\n",
       "      <td>70003n</td>\n",
       "      <td>1.0</td>\n",
       "      <td>NaN</td>\n",
       "      <td>1.0</td>\n",
       "      <td>1</td>\n",
       "    </tr>\n",
       "    <tr>\n",
       "      <th>3</th>\n",
       "      <td>70006c</td>\n",
       "      <td>1.0</td>\n",
       "      <td>NaN</td>\n",
       "      <td>5.0</td>\n",
       "      <td>0</td>\n",
       "    </tr>\n",
       "    <tr>\n",
       "      <th>4</th>\n",
       "      <td>70007s</td>\n",
       "      <td>1.0</td>\n",
       "      <td>NaN</td>\n",
       "      <td>2.0</td>\n",
       "      <td>1</td>\n",
       "    </tr>\n",
       "    <tr>\n",
       "      <th>5</th>\n",
       "      <td>70008m</td>\n",
       "      <td>1.0</td>\n",
       "      <td>NaN</td>\n",
       "      <td>1.0</td>\n",
       "      <td>1</td>\n",
       "    </tr>\n",
       "    <tr>\n",
       "      <th>6</th>\n",
       "      <td>70010x</td>\n",
       "      <td>1.0</td>\n",
       "      <td>NaN</td>\n",
       "      <td>3.0</td>\n",
       "      <td>0</td>\n",
       "    </tr>\n",
       "    <tr>\n",
       "      <th>7</th>\n",
       "      <td>70013m</td>\n",
       "      <td>1.0</td>\n",
       "      <td>NaN</td>\n",
       "      <td>1.0</td>\n",
       "      <td>1</td>\n",
       "    </tr>\n",
       "    <tr>\n",
       "      <th>8</th>\n",
       "      <td>70016u</td>\n",
       "      <td>1.0</td>\n",
       "      <td>NaN</td>\n",
       "      <td>3.0</td>\n",
       "      <td>0</td>\n",
       "    </tr>\n",
       "    <tr>\n",
       "      <th>9</th>\n",
       "      <td>70017r</td>\n",
       "      <td>1.0</td>\n",
       "      <td>NaN</td>\n",
       "      <td>2.0</td>\n",
       "      <td>1</td>\n",
       "    </tr>\n",
       "    <tr>\n",
       "      <th>11</th>\n",
       "      <td>70019z</td>\n",
       "      <td>1.0</td>\n",
       "      <td>NaN</td>\n",
       "      <td>3.0</td>\n",
       "      <td>0</td>\n",
       "    </tr>\n",
       "    <tr>\n",
       "      <th>12</th>\n",
       "      <td>70020n</td>\n",
       "      <td>1.0</td>\n",
       "      <td>NaN</td>\n",
       "      <td>1.0</td>\n",
       "      <td>1</td>\n",
       "    </tr>\n",
       "    <tr>\n",
       "      <th>13</th>\n",
       "      <td>70023x</td>\n",
       "      <td>1.0</td>\n",
       "      <td>NaN</td>\n",
       "      <td>4.0</td>\n",
       "      <td>0</td>\n",
       "    </tr>\n",
       "    <tr>\n",
       "      <th>14</th>\n",
       "      <td>70028q</td>\n",
       "      <td>1.0</td>\n",
       "      <td>NaN</td>\n",
       "      <td>3.0</td>\n",
       "      <td>0</td>\n",
       "    </tr>\n",
       "    <tr>\n",
       "      <th>15</th>\n",
       "      <td>70030p</td>\n",
       "      <td>1.0</td>\n",
       "      <td>NaN</td>\n",
       "      <td>2.0</td>\n",
       "      <td>1</td>\n",
       "    </tr>\n",
       "    <tr>\n",
       "      <th>16</th>\n",
       "      <td>70033v</td>\n",
       "      <td>1.0</td>\n",
       "      <td>NaN</td>\n",
       "      <td>1.0</td>\n",
       "      <td>1</td>\n",
       "    </tr>\n",
       "    <tr>\n",
       "      <th>17</th>\n",
       "      <td>70034s</td>\n",
       "      <td>1.0</td>\n",
       "      <td>NaN</td>\n",
       "      <td>1.0</td>\n",
       "      <td>1</td>\n",
       "    </tr>\n",
       "    <tr>\n",
       "      <th>18</th>\n",
       "      <td>70035u</td>\n",
       "      <td>1.0</td>\n",
       "      <td>NaN</td>\n",
       "      <td>2.0</td>\n",
       "      <td>1</td>\n",
       "    </tr>\n",
       "    <tr>\n",
       "      <th>19</th>\n",
       "      <td>70039u</td>\n",
       "      <td>1.0</td>\n",
       "      <td>NaN</td>\n",
       "      <td>4.0</td>\n",
       "      <td>0</td>\n",
       "    </tr>\n",
       "    <tr>\n",
       "      <th>20</th>\n",
       "      <td>70040y</td>\n",
       "      <td>1.0</td>\n",
       "      <td>NaN</td>\n",
       "      <td>1.0</td>\n",
       "      <td>1</td>\n",
       "    </tr>\n",
       "  </tbody>\n",
       "</table>\n",
       "</div>"
      ],
      "text/plain": [
       "     LTMID  MoD  Q1250  autonomy  autonomy_\n",
       "0   70001n  1.0    NaN       1.0          1\n",
       "1   70002m  1.0    NaN       1.0          1\n",
       "2   70003n  1.0    NaN       1.0          1\n",
       "3   70006c  1.0    NaN       5.0          0\n",
       "4   70007s  1.0    NaN       2.0          1\n",
       "5   70008m  1.0    NaN       1.0          1\n",
       "6   70010x  1.0    NaN       3.0          0\n",
       "7   70013m  1.0    NaN       1.0          1\n",
       "8   70016u  1.0    NaN       3.0          0\n",
       "9   70017r  1.0    NaN       2.0          1\n",
       "11  70019z  1.0    NaN       3.0          0\n",
       "12  70020n  1.0    NaN       1.0          1\n",
       "13  70023x  1.0    NaN       4.0          0\n",
       "14  70028q  1.0    NaN       3.0          0\n",
       "15  70030p  1.0    NaN       2.0          1\n",
       "16  70033v  1.0    NaN       1.0          1\n",
       "17  70034s  1.0    NaN       1.0          1\n",
       "18  70035u  1.0    NaN       2.0          1\n",
       "19  70039u  1.0    NaN       4.0          0\n",
       "20  70040y  1.0    NaN       1.0          1"
      ]
     },
     "execution_count": 16,
     "metadata": {},
     "output_type": "execute_result"
    }
   ],
   "source": [
    "sample_df.head(20)"
   ]
  },
  {
   "cell_type": "code",
   "execution_count": 17,
   "metadata": {},
   "outputs": [
    {
     "data": {
      "text/plain": [
       "2067"
      ]
     },
     "execution_count": 17,
     "metadata": {},
     "output_type": "execute_result"
    }
   ],
   "source": [
    "len(sample_df)"
   ]
  },
  {
   "cell_type": "code",
   "execution_count": 18,
   "metadata": {},
   "outputs": [
    {
     "data": {
      "text/plain": [
       "MoD  Q1250\n",
       "2.0  1.0       61\n",
       "     2.0      247\n",
       "Name: LTMID, dtype: int64"
      ]
     },
     "execution_count": 18,
     "metadata": {},
     "output_type": "execute_result"
    }
   ],
   "source": [
    "sample_df.groupby(['MoD','Q1250'])['LTMID'].count()"
   ]
  },
  {
   "cell_type": "code",
   "execution_count": 19,
   "metadata": {},
   "outputs": [],
   "source": [
    "# remove planned cesearan sections from the sample\n",
    "exclusion_criteria = (sample_df['Q1250'] == 1.0)"
   ]
  },
  {
   "cell_type": "code",
   "execution_count": 20,
   "metadata": {},
   "outputs": [
    {
     "data": {
      "text/plain": [
       "autonomy_\n",
       "0    19\n",
       "1    42\n",
       "Name: LTMID, dtype: int64"
      ]
     },
     "execution_count": 20,
     "metadata": {},
     "output_type": "execute_result"
    }
   ],
   "source": [
    "# autonomy among those that planned their cesarean section -- interesting\n",
    "sample_df[exclusion_criteria].groupby(['autonomy_'])['LTMID'].count()"
   ]
  },
  {
   "cell_type": "code",
   "execution_count": 21,
   "metadata": {},
   "outputs": [],
   "source": [
    "# remove those who planned to have a c-section and simplify the dataset for the first model\n",
    "sample_df = sample_df[~exclusion_criteria][['autonomy_','MoD']]"
   ]
  },
  {
   "cell_type": "code",
   "execution_count": 22,
   "metadata": {},
   "outputs": [],
   "source": [
    "# recode the response variable to be 0 = vaginal delivery, 1 = cesarean delivery\n",
    "sample_df['MoD_'] = np.where(sample_df['MoD'] == 1.0, 0, 1)"
   ]
  },
  {
   "cell_type": "code",
   "execution_count": 23,
   "metadata": {},
   "outputs": [
    {
     "data": {
      "text/html": [
       "<div>\n",
       "<style scoped>\n",
       "    .dataframe tbody tr th:only-of-type {\n",
       "        vertical-align: middle;\n",
       "    }\n",
       "\n",
       "    .dataframe tbody tr th {\n",
       "        vertical-align: top;\n",
       "    }\n",
       "\n",
       "    .dataframe thead th {\n",
       "        text-align: right;\n",
       "    }\n",
       "</style>\n",
       "<table border=\"1\" class=\"dataframe\">\n",
       "  <thead>\n",
       "    <tr style=\"text-align: right;\">\n",
       "      <th></th>\n",
       "      <th>autonomy_</th>\n",
       "      <th>MoD</th>\n",
       "      <th>MoD_</th>\n",
       "    </tr>\n",
       "  </thead>\n",
       "  <tbody>\n",
       "    <tr>\n",
       "      <th>0</th>\n",
       "      <td>1</td>\n",
       "      <td>1.0</td>\n",
       "      <td>0</td>\n",
       "    </tr>\n",
       "    <tr>\n",
       "      <th>1</th>\n",
       "      <td>1</td>\n",
       "      <td>1.0</td>\n",
       "      <td>0</td>\n",
       "    </tr>\n",
       "    <tr>\n",
       "      <th>2</th>\n",
       "      <td>1</td>\n",
       "      <td>1.0</td>\n",
       "      <td>0</td>\n",
       "    </tr>\n",
       "    <tr>\n",
       "      <th>3</th>\n",
       "      <td>0</td>\n",
       "      <td>1.0</td>\n",
       "      <td>0</td>\n",
       "    </tr>\n",
       "    <tr>\n",
       "      <th>4</th>\n",
       "      <td>1</td>\n",
       "      <td>1.0</td>\n",
       "      <td>0</td>\n",
       "    </tr>\n",
       "  </tbody>\n",
       "</table>\n",
       "</div>"
      ],
      "text/plain": [
       "   autonomy_  MoD  MoD_\n",
       "0          1  1.0     0\n",
       "1          1  1.0     0\n",
       "2          1  1.0     0\n",
       "3          0  1.0     0\n",
       "4          1  1.0     0"
      ]
     },
     "execution_count": 23,
     "metadata": {},
     "output_type": "execute_result"
    }
   ],
   "source": [
    "sample_df.head()"
   ]
  },
  {
   "cell_type": "code",
   "execution_count": 33,
   "metadata": {},
   "outputs": [
    {
     "name": "stdout",
     "output_type": "stream",
     "text": [
      "Optimization terminated successfully.\n",
      "         Current function value: 0.372954\n",
      "         Iterations 6\n"
     ]
    },
    {
     "data": {
      "text/html": [
       "<table class=\"simpletable\">\n",
       "<caption>Logit Regression Results</caption>\n",
       "<tr>\n",
       "  <th>Dep. Variable:</th>         <td>MoD_</td>       <th>  No. Observations:  </th>  <td>  2006</td> \n",
       "</tr>\n",
       "<tr>\n",
       "  <th>Model:</th>                 <td>Logit</td>      <th>  Df Residuals:      </th>  <td>  2004</td> \n",
       "</tr>\n",
       "<tr>\n",
       "  <th>Method:</th>                 <td>MLE</td>       <th>  Df Model:          </th>  <td>     1</td> \n",
       "</tr>\n",
       "<tr>\n",
       "  <th>Date:</th>            <td>Sun, 11 Dec 2022</td> <th>  Pseudo R-squ.:     </th> <td>0.003048</td>\n",
       "</tr>\n",
       "<tr>\n",
       "  <th>Time:</th>                <td>22:45:04</td>     <th>  Log-Likelihood:    </th> <td> -748.15</td>\n",
       "</tr>\n",
       "<tr>\n",
       "  <th>converged:</th>             <td>True</td>       <th>  LL-Null:           </th> <td> -750.43</td>\n",
       "</tr>\n",
       "<tr>\n",
       "  <th>Covariance Type:</th>     <td>nonrobust</td>    <th>  LLR p-value:       </th>  <td>0.03245</td>\n",
       "</tr>\n",
       "</table>\n",
       "<table class=\"simpletable\">\n",
       "<tr>\n",
       "      <td></td>         <th>coef</th>     <th>std err</th>      <th>z</th>      <th>P>|z|</th>  <th>[0.025</th>    <th>0.975]</th>  \n",
       "</tr>\n",
       "<tr>\n",
       "  <th>Intercept</th> <td>   -1.7194</td> <td>    0.126</td> <td>  -13.621</td> <td> 0.000</td> <td>   -1.967</td> <td>   -1.472</td>\n",
       "</tr>\n",
       "<tr>\n",
       "  <th>autonomy_</th> <td>   -0.3257</td> <td>    0.150</td> <td>   -2.175</td> <td> 0.030</td> <td>   -0.619</td> <td>   -0.032</td>\n",
       "</tr>\n",
       "</table>"
      ],
      "text/plain": [
       "<class 'statsmodels.iolib.summary.Summary'>\n",
       "\"\"\"\n",
       "                           Logit Regression Results                           \n",
       "==============================================================================\n",
       "Dep. Variable:                   MoD_   No. Observations:                 2006\n",
       "Model:                          Logit   Df Residuals:                     2004\n",
       "Method:                           MLE   Df Model:                            1\n",
       "Date:                Sun, 11 Dec 2022   Pseudo R-squ.:                0.003048\n",
       "Time:                        22:45:04   Log-Likelihood:                -748.15\n",
       "converged:                       True   LL-Null:                       -750.43\n",
       "Covariance Type:            nonrobust   LLR p-value:                   0.03245\n",
       "==============================================================================\n",
       "                 coef    std err          z      P>|z|      [0.025      0.975]\n",
       "------------------------------------------------------------------------------\n",
       "Intercept     -1.7194      0.126    -13.621      0.000      -1.967      -1.472\n",
       "autonomy_     -0.3257      0.150     -2.175      0.030      -0.619      -0.032\n",
       "==============================================================================\n",
       "\"\"\""
      ]
     },
     "execution_count": 33,
     "metadata": {},
     "output_type": "execute_result"
    }
   ],
   "source": [
    "# build the logistic regression model\n",
    "#logit_mod = sm.Logit(sample_df.MoD_, sample_df.autonomy_)\n",
    "\n",
    "logit_mod = logit(\"MoD_ ~ autonomy_\",sample_df).fit()\n",
    "\n",
    "#logit_res = logit_mod.fit(disp=0)\n",
    "#print(logit_res.summary())\n",
    "logit_mod.summary()"
   ]
  },
  {
   "cell_type": "code",
   "execution_count": 34,
   "metadata": {},
   "outputs": [
    {
     "name": "stdout",
     "output_type": "stream",
     "text": [
      "                 5%       95%  Odds Ratio\n",
      "Intercept  0.139905  0.229473    0.179177\n",
      "autonomy_  0.538365  0.968309    0.722013\n"
     ]
    }
   ],
   "source": [
    "# calculate the odds ratios\n",
    "\n",
    "params = logit_mod.params\n",
    "conf = logit_mod.conf_int()\n",
    "conf['Odds Ratio'] = params\n",
    "conf.columns = ['5%', '95%', 'Odds Ratio']\n",
    "print(np.exp(conf))"
   ]
  },
  {
   "cell_type": "code",
   "execution_count": null,
   "metadata": {},
   "outputs": [],
   "source": []
  }
 ],
 "metadata": {
  "kernelspec": {
   "display_name": "cs677",
   "language": "python",
   "name": "python3"
  },
  "language_info": {
   "codemirror_mode": {
    "name": "ipython",
    "version": 3
   },
   "file_extension": ".py",
   "mimetype": "text/x-python",
   "name": "python",
   "nbconvert_exporter": "python",
   "pygments_lexer": "ipython3",
   "version": "3.9.7"
  },
  "orig_nbformat": 4,
  "vscode": {
   "interpreter": {
    "hash": "f9c230b915196ac28d71b096ff22ea713a8a1e776d54f1388c0dccb3caadea09"
   }
  }
 },
 "nbformat": 4,
 "nbformat_minor": 2
}
