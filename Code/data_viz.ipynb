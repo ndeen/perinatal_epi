{
 "cells": [
  {
   "attachments": {},
   "cell_type": "markdown",
   "metadata": {},
   "source": [
    "#### Data Import"
   ]
  },
  {
   "cell_type": "code",
   "execution_count": 378,
   "metadata": {},
   "outputs": [],
   "source": [
    "import pandas as pd\n",
    "import seaborn as sns\n",
    "import matplotlib.pyplot as plt"
   ]
  },
  {
   "cell_type": "code",
   "execution_count": 379,
   "metadata": {},
   "outputs": [
    {
     "data": {
      "text/html": [
       "<div>\n",
       "<style scoped>\n",
       "    .dataframe tbody tr th:only-of-type {\n",
       "        vertical-align: middle;\n",
       "    }\n",
       "\n",
       "    .dataframe tbody tr th {\n",
       "        vertical-align: top;\n",
       "    }\n",
       "\n",
       "    .dataframe thead th {\n",
       "        text-align: right;\n",
       "    }\n",
       "</style>\n",
       "<table border=\"1\" class=\"dataframe\">\n",
       "  <thead>\n",
       "    <tr style=\"text-align: right;\">\n",
       "      <th></th>\n",
       "      <th>LTMID</th>\n",
       "      <th>mode</th>\n",
       "      <th>Q_Language</th>\n",
       "      <th>Q510a</th>\n",
       "      <th>Q520</th>\n",
       "      <th>Q610</th>\n",
       "      <th>Q705</th>\n",
       "      <th>Q715</th>\n",
       "      <th>Q716</th>\n",
       "      <th>Q740</th>\n",
       "      <th>...</th>\n",
       "      <th>char_Q1325a</th>\n",
       "      <th>char_raceeth</th>\n",
       "      <th>char_education</th>\n",
       "      <th>agree1</th>\n",
       "      <th>age</th>\n",
       "      <th>raceeth</th>\n",
       "      <th>yes</th>\n",
       "      <th>education</th>\n",
       "      <th>vaginal</th>\n",
       "      <th>csection</th>\n",
       "    </tr>\n",
       "  </thead>\n",
       "  <tbody>\n",
       "    <tr>\n",
       "      <th>0</th>\n",
       "      <td>70001n</td>\n",
       "      <td>Online - self</td>\n",
       "      <td>English</td>\n",
       "      <td>September</td>\n",
       "      <td>Boy</td>\n",
       "      <td>2</td>\n",
       "      <td>Yes, I had a choice</td>\n",
       "      <td>5.0</td>\n",
       "      <td>NaN</td>\n",
       "      <td>No, I did not look</td>\n",
       "      <td>...</td>\n",
       "      <td>1</td>\n",
       "      <td>1</td>\n",
       "      <td>4</td>\n",
       "      <td>Strongly Agree &amp; Agree</td>\n",
       "      <td>25-34 years old</td>\n",
       "      <td>Hispanic/Latina</td>\n",
       "      <td>1</td>\n",
       "      <td>Some college, but no degree</td>\n",
       "      <td>NaN</td>\n",
       "      <td>NaN</td>\n",
       "    </tr>\n",
       "    <tr>\n",
       "      <th>1</th>\n",
       "      <td>70002m</td>\n",
       "      <td>Online - self</td>\n",
       "      <td>English</td>\n",
       "      <td>October</td>\n",
       "      <td>Boy</td>\n",
       "      <td>2</td>\n",
       "      <td>Yes, I had a choice</td>\n",
       "      <td>3.0</td>\n",
       "      <td>2.0</td>\n",
       "      <td>No, I did not look</td>\n",
       "      <td>...</td>\n",
       "      <td>1</td>\n",
       "      <td>2</td>\n",
       "      <td>7</td>\n",
       "      <td>Strongly Agree &amp; Agree</td>\n",
       "      <td>25-34 years old</td>\n",
       "      <td>White, non-Hispanic</td>\n",
       "      <td>1</td>\n",
       "      <td>Some graduate school, but no degree</td>\n",
       "      <td>NaN</td>\n",
       "      <td>NaN</td>\n",
       "    </tr>\n",
       "    <tr>\n",
       "      <th>2</th>\n",
       "      <td>70003n</td>\n",
       "      <td>Online - self</td>\n",
       "      <td>Spanish</td>\n",
       "      <td>November</td>\n",
       "      <td>Girl</td>\n",
       "      <td>4</td>\n",
       "      <td>Yes, I had a choice</td>\n",
       "      <td>1.0</td>\n",
       "      <td>1.0</td>\n",
       "      <td>Yes, I looked and found this information</td>\n",
       "      <td>...</td>\n",
       "      <td>1</td>\n",
       "      <td>1</td>\n",
       "      <td>3</td>\n",
       "      <td>Strongly Agree &amp; Agree</td>\n",
       "      <td>25-34 years old</td>\n",
       "      <td>Hispanic/Latina</td>\n",
       "      <td>1</td>\n",
       "      <td>Less than high school - high school</td>\n",
       "      <td>NaN</td>\n",
       "      <td>NaN</td>\n",
       "    </tr>\n",
       "    <tr>\n",
       "      <th>3</th>\n",
       "      <td>70006c</td>\n",
       "      <td>Phone - interviewer</td>\n",
       "      <td>English</td>\n",
       "      <td>September</td>\n",
       "      <td>Girl</td>\n",
       "      <td>4</td>\n",
       "      <td>No, I had no choice; my maternity care provide...</td>\n",
       "      <td>4.0</td>\n",
       "      <td>NaN</td>\n",
       "      <td>Yes, I looked and found this information</td>\n",
       "      <td>...</td>\n",
       "      <td>5</td>\n",
       "      <td>3</td>\n",
       "      <td>4</td>\n",
       "      <td>All Disagrees</td>\n",
       "      <td>25-34 years old</td>\n",
       "      <td>Black, non-Hispanic</td>\n",
       "      <td>1</td>\n",
       "      <td>Some college, but no degree</td>\n",
       "      <td>NaN</td>\n",
       "      <td>NaN</td>\n",
       "    </tr>\n",
       "    <tr>\n",
       "      <th>4</th>\n",
       "      <td>70007s</td>\n",
       "      <td>Combination of online and phone</td>\n",
       "      <td>English</td>\n",
       "      <td>November</td>\n",
       "      <td>Boy</td>\n",
       "      <td>4</td>\n",
       "      <td>Yes, I had a choice</td>\n",
       "      <td>4.0</td>\n",
       "      <td>NaN</td>\n",
       "      <td>No, I did not look</td>\n",
       "      <td>...</td>\n",
       "      <td>2</td>\n",
       "      <td>1</td>\n",
       "      <td>4</td>\n",
       "      <td>Strongly Agree &amp; Agree</td>\n",
       "      <td>35 and older</td>\n",
       "      <td>Hispanic/Latina</td>\n",
       "      <td>1</td>\n",
       "      <td>Some college, but no degree</td>\n",
       "      <td>NaN</td>\n",
       "      <td>NaN</td>\n",
       "    </tr>\n",
       "  </tbody>\n",
       "</table>\n",
       "<p>5 rows × 265 columns</p>\n",
       "</div>"
      ],
      "text/plain": [
       "    LTMID                             mode Q_Language      Q510a  Q520  Q610  \\\n",
       "0  70001n                    Online - self    English  September   Boy     2   \n",
       "1  70002m                    Online - self    English    October   Boy     2   \n",
       "2  70003n                    Online - self    Spanish   November  Girl     4   \n",
       "3  70006c              Phone - interviewer    English  September  Girl     4   \n",
       "4  70007s  Combination of online and phone    English   November   Boy     4   \n",
       "\n",
       "                                                Q705  Q715  Q716  \\\n",
       "0                                Yes, I had a choice   5.0   NaN   \n",
       "1                                Yes, I had a choice   3.0   2.0   \n",
       "2                                Yes, I had a choice   1.0   1.0   \n",
       "3  No, I had no choice; my maternity care provide...   4.0   NaN   \n",
       "4                                Yes, I had a choice   4.0   NaN   \n",
       "\n",
       "                                       Q740  ...  char_Q1325a  char_raceeth  \\\n",
       "0                        No, I did not look  ...            1             1   \n",
       "1                        No, I did not look  ...            1             2   \n",
       "2  Yes, I looked and found this information  ...            1             1   \n",
       "3  Yes, I looked and found this information  ...            5             3   \n",
       "4                        No, I did not look  ...            2             1   \n",
       "\n",
       "   char_education                  agree1              age  \\\n",
       "0               4  Strongly Agree & Agree  25-34 years old   \n",
       "1               7  Strongly Agree & Agree  25-34 years old   \n",
       "2               3  Strongly Agree & Agree  25-34 years old   \n",
       "3               4           All Disagrees  25-34 years old   \n",
       "4               4  Strongly Agree & Agree     35 and older   \n",
       "\n",
       "               raceeth yes                            education vaginal  \\\n",
       "0      Hispanic/Latina   1          Some college, but no degree     NaN   \n",
       "1  White, non-Hispanic   1  Some graduate school, but no degree     NaN   \n",
       "2      Hispanic/Latina   1  Less than high school - high school     NaN   \n",
       "3  Black, non-Hispanic   1          Some college, but no degree     NaN   \n",
       "4      Hispanic/Latina   1          Some college, but no degree     NaN   \n",
       "\n",
       "  csection  \n",
       "0      NaN  \n",
       "1      NaN  \n",
       "2      NaN  \n",
       "3      NaN  \n",
       "4      NaN  \n",
       "\n",
       "[5 rows x 265 columns]"
      ]
     },
     "execution_count": 379,
     "metadata": {},
     "output_type": "execute_result"
    }
   ],
   "source": [
    "filepath = r\"C:\\Users\\Nigel\\Git\\perinatal_epi\\Data\\LTM.csv\"\n",
    "\n",
    "ltm = pd.read_csv(filepath)\n",
    "ltm.head()"
   ]
  },
  {
   "cell_type": "code",
   "execution_count": 427,
   "metadata": {},
   "outputs": [
    {
     "data": {
      "text/plain": [
       "1944"
      ]
     },
     "execution_count": 427,
     "metadata": {},
     "output_type": "execute_result"
    }
   ],
   "source": [
    "len(ltm)"
   ]
  },
  {
   "cell_type": "code",
   "execution_count": 426,
   "metadata": {},
   "outputs": [
    {
     "data": {
      "text/plain": [
       "Q1115\n",
       "C-section     241\n",
       "Vaginal      1703\n",
       "Name: LTMID, dtype: int64"
      ]
     },
     "execution_count": 426,
     "metadata": {},
     "output_type": "execute_result"
    }
   ],
   "source": [
    "ltm.groupby(['Q1115'])['LTMID'].count() # investigate why we have different counts compared to slide 2"
   ]
  },
  {
   "attachments": {},
   "cell_type": "markdown",
   "metadata": {},
   "source": [
    "#### Figure 1: Demographic characteristics of the participants: the association between those who disagreed to decision-making autonomy and mode of delivery"
   ]
  },
  {
   "cell_type": "code",
   "execution_count": 380,
   "metadata": {},
   "outputs": [
    {
     "data": {
      "text/html": [
       "<div>\n",
       "<style scoped>\n",
       "    .dataframe tbody tr th:only-of-type {\n",
       "        vertical-align: middle;\n",
       "    }\n",
       "\n",
       "    .dataframe tbody tr th {\n",
       "        vertical-align: top;\n",
       "    }\n",
       "\n",
       "    .dataframe thead th {\n",
       "        text-align: right;\n",
       "    }\n",
       "</style>\n",
       "<table border=\"1\" class=\"dataframe\">\n",
       "  <thead>\n",
       "    <tr style=\"text-align: right;\">\n",
       "      <th></th>\n",
       "      <th>LTMID</th>\n",
       "      <th>Maternal Age</th>\n",
       "      <th>Race/Ethnicity</th>\n",
       "      <th>Education</th>\n",
       "      <th>Mode of Delivery</th>\n",
       "      <th>Autonomy</th>\n",
       "    </tr>\n",
       "  </thead>\n",
       "  <tbody>\n",
       "    <tr>\n",
       "      <th>0</th>\n",
       "      <td>70001n</td>\n",
       "      <td>25-34 years old</td>\n",
       "      <td>Hispanic/Latina</td>\n",
       "      <td>Some college, but no degree</td>\n",
       "      <td>Vaginal</td>\n",
       "      <td>Strongly Agree &amp; Agree</td>\n",
       "    </tr>\n",
       "    <tr>\n",
       "      <th>1</th>\n",
       "      <td>70002m</td>\n",
       "      <td>25-34 years old</td>\n",
       "      <td>White, non-Hispanic</td>\n",
       "      <td>Some graduate school, but no degree</td>\n",
       "      <td>Vaginal</td>\n",
       "      <td>Strongly Agree &amp; Agree</td>\n",
       "    </tr>\n",
       "    <tr>\n",
       "      <th>2</th>\n",
       "      <td>70003n</td>\n",
       "      <td>25-34 years old</td>\n",
       "      <td>Hispanic/Latina</td>\n",
       "      <td>Less than high school - high school</td>\n",
       "      <td>Vaginal</td>\n",
       "      <td>Strongly Agree &amp; Agree</td>\n",
       "    </tr>\n",
       "    <tr>\n",
       "      <th>3</th>\n",
       "      <td>70006c</td>\n",
       "      <td>25-34 years old</td>\n",
       "      <td>Black, non-Hispanic</td>\n",
       "      <td>Some college, but no degree</td>\n",
       "      <td>Vaginal</td>\n",
       "      <td>All Disagrees</td>\n",
       "    </tr>\n",
       "    <tr>\n",
       "      <th>4</th>\n",
       "      <td>70007s</td>\n",
       "      <td>35 and older</td>\n",
       "      <td>Hispanic/Latina</td>\n",
       "      <td>Some college, but no degree</td>\n",
       "      <td>Vaginal</td>\n",
       "      <td>Strongly Agree &amp; Agree</td>\n",
       "    </tr>\n",
       "  </tbody>\n",
       "</table>\n",
       "</div>"
      ],
      "text/plain": [
       "    LTMID     Maternal Age       Race/Ethnicity  \\\n",
       "0  70001n  25-34 years old      Hispanic/Latina   \n",
       "1  70002m  25-34 years old  White, non-Hispanic   \n",
       "2  70003n  25-34 years old      Hispanic/Latina   \n",
       "3  70006c  25-34 years old  Black, non-Hispanic   \n",
       "4  70007s     35 and older      Hispanic/Latina   \n",
       "\n",
       "                             Education Mode of Delivery  \\\n",
       "0          Some college, but no degree          Vaginal   \n",
       "1  Some graduate school, but no degree          Vaginal   \n",
       "2  Less than high school - high school          Vaginal   \n",
       "3          Some college, but no degree          Vaginal   \n",
       "4          Some college, but no degree          Vaginal   \n",
       "\n",
       "                 Autonomy  \n",
       "0  Strongly Agree & Agree  \n",
       "1  Strongly Agree & Agree  \n",
       "2  Strongly Agree & Agree  \n",
       "3           All Disagrees  \n",
       "4  Strongly Agree & Agree  "
      ]
     },
     "execution_count": 380,
     "metadata": {},
     "output_type": "execute_result"
    }
   ],
   "source": [
    "cols = ['LTMID','age','raceeth', 'education', 'Q1115', 'agree1']\n",
    "\n",
    "tbl1 = ltm[cols].rename(columns={'age':'Maternal Age','raceeth':'Race/Ethnicity','education':'Education','Q1115':'Mode of Delivery', 'agree1':'Autonomy'}).copy()\n",
    "tbl1.head()"
   ]
  },
  {
   "cell_type": "code",
   "execution_count": 494,
   "metadata": {},
   "outputs": [
    {
     "data": {
      "text/plain": [
       "array(['Some college, but no degree',\n",
       "       'Some graduate school, but no degree',\n",
       "       'Less than high school - high school',\n",
       "       'Associate degree or College Degree', 'Graduate school'],\n",
       "      dtype=object)"
      ]
     },
     "execution_count": 494,
     "metadata": {},
     "output_type": "execute_result"
    }
   ],
   "source": [
    "tbl1.Education.unique()"
   ]
  },
  {
   "cell_type": "code",
   "execution_count": 509,
   "metadata": {},
   "outputs": [],
   "source": [
    "tbl1['Education'] = tbl1['Education'].replace(\n",
    "                                        \"Some college, but no degree\", \"Some College\").replace(\n",
    "                                        \"Some graduate school, but no degree\", \"Some Graduate School\").replace(\n",
    "                                        \"Less than high school - high school\",\"High School\").replace(\n",
    "                                        \"Associate degree or College Degree\",\"College Degree\").replace(\n",
    "                                        \"Graduate school\",\"Graduate School\"\n",
    "                                        )"
   ]
  },
  {
   "cell_type": "code",
   "execution_count": 510,
   "metadata": {},
   "outputs": [
    {
     "data": {
      "text/plain": [
       "array(['Some College', 'Some Graduate School', 'High School',\n",
       "       'College Degree', 'Graduate School'], dtype=object)"
      ]
     },
     "execution_count": 510,
     "metadata": {},
     "output_type": "execute_result"
    }
   ],
   "source": [
    "tbl1.Education.unique()"
   ]
  },
  {
   "cell_type": "code",
   "execution_count": 480,
   "metadata": {},
   "outputs": [
    {
     "data": {
      "text/plain": [
       "array(['25-34 years old', '35 and older', 'Less than 25 years old'],\n",
       "      dtype=object)"
      ]
     },
     "execution_count": 480,
     "metadata": {},
     "output_type": "execute_result"
    }
   ],
   "source": [
    "tbl1['Maternal Age'].unique()"
   ]
  },
  {
   "cell_type": "code",
   "execution_count": 483,
   "metadata": {},
   "outputs": [],
   "source": [
    "tbl1['Maternal Age'] = tbl1['Maternal Age'].replace('25-34 years old','25-34').replace('Less than 25 years old','Less than 25').replace('35 and older','35+')"
   ]
  },
  {
   "cell_type": "code",
   "execution_count": 484,
   "metadata": {},
   "outputs": [
    {
     "data": {
      "text/plain": [
       "array(['25-34', '35+', 'Less than 25'], dtype=object)"
      ]
     },
     "execution_count": 484,
     "metadata": {},
     "output_type": "execute_result"
    }
   ],
   "source": [
    "tbl1['Maternal Age'].unique()"
   ]
  },
  {
   "cell_type": "code",
   "execution_count": 49,
   "metadata": {},
   "outputs": [
    {
     "name": "stdout",
     "output_type": "stream",
     "text": [
      "No duplicate IDs found\n"
     ]
    }
   ],
   "source": [
    "# check to make sure each ID is unique (equal to the number of observations)\n",
    "try: \n",
    "    assert len(tbl1) == tbl1['LTMID'].nunique()\n",
    "    print('No duplicate IDs found')\n",
    "except:\n",
    "    print('Duplicate IDs present.')"
   ]
  },
  {
   "cell_type": "code",
   "execution_count": 428,
   "metadata": {},
   "outputs": [
    {
     "data": {
      "text/plain": [
       "1944"
      ]
     },
     "execution_count": 428,
     "metadata": {},
     "output_type": "execute_result"
    }
   ],
   "source": [
    "len(tbl1)"
   ]
  },
  {
   "cell_type": "code",
   "execution_count": 43,
   "metadata": {},
   "outputs": [],
   "source": [
    "#tbl1 = tbl1.groupby(['Maternal Age', 'Race/Ethnicity', 'Education', 'Mode of Delivery', 'Autonomy'])['LTMID'].count().reset_index().rename(columns={'LTMID':'count'})\n",
    "#tbl12"
   ]
  },
  {
   "cell_type": "code",
   "execution_count": 485,
   "metadata": {},
   "outputs": [
    {
     "data": {
      "text/html": [
       "<div>\n",
       "<style scoped>\n",
       "    .dataframe tbody tr th:only-of-type {\n",
       "        vertical-align: middle;\n",
       "    }\n",
       "\n",
       "    .dataframe tbody tr th {\n",
       "        vertical-align: top;\n",
       "    }\n",
       "\n",
       "    .dataframe thead th {\n",
       "        text-align: right;\n",
       "    }\n",
       "</style>\n",
       "<table border=\"1\" class=\"dataframe\">\n",
       "  <thead>\n",
       "    <tr style=\"text-align: right;\">\n",
       "      <th></th>\n",
       "      <th>Maternal Age</th>\n",
       "      <th>Autonomy</th>\n",
       "      <th>count</th>\n",
       "    </tr>\n",
       "  </thead>\n",
       "  <tbody>\n",
       "    <tr>\n",
       "      <th>0</th>\n",
       "      <td>25-34</td>\n",
       "      <td>All Disagrees</td>\n",
       "      <td>255</td>\n",
       "    </tr>\n",
       "    <tr>\n",
       "      <th>1</th>\n",
       "      <td>25-34</td>\n",
       "      <td>Strongly Agree &amp; Agree</td>\n",
       "      <td>857</td>\n",
       "    </tr>\n",
       "    <tr>\n",
       "      <th>2</th>\n",
       "      <td>35+</td>\n",
       "      <td>All Disagrees</td>\n",
       "      <td>79</td>\n",
       "    </tr>\n",
       "    <tr>\n",
       "      <th>3</th>\n",
       "      <td>35+</td>\n",
       "      <td>Strongly Agree &amp; Agree</td>\n",
       "      <td>292</td>\n",
       "    </tr>\n",
       "    <tr>\n",
       "      <th>4</th>\n",
       "      <td>Less than 25</td>\n",
       "      <td>All Disagrees</td>\n",
       "      <td>133</td>\n",
       "    </tr>\n",
       "  </tbody>\n",
       "</table>\n",
       "</div>"
      ],
      "text/plain": [
       "   Maternal Age                Autonomy  count\n",
       "0         25-34           All Disagrees    255\n",
       "1         25-34  Strongly Agree & Agree    857\n",
       "2           35+           All Disagrees     79\n",
       "3           35+  Strongly Agree & Agree    292\n",
       "4  Less than 25           All Disagrees    133"
      ]
     },
     "execution_count": 485,
     "metadata": {},
     "output_type": "execute_result"
    }
   ],
   "source": [
    "# check the counts for the first subplot\n",
    "viz1 = tbl1.groupby(['Maternal Age','Autonomy'])['LTMID'].count().reset_index().rename(columns={'LTMID':'count'})\n",
    "viz1.head()"
   ]
  },
  {
   "cell_type": "code",
   "execution_count": 486,
   "metadata": {},
   "outputs": [
    {
     "data": {
      "text/plain": [
       "True"
      ]
     },
     "execution_count": 486,
     "metadata": {},
     "output_type": "execute_result"
    }
   ],
   "source": [
    "viz1['count'].sum() == tbl1['LTMID'].count()"
   ]
  },
  {
   "cell_type": "code",
   "execution_count": 487,
   "metadata": {},
   "outputs": [
    {
     "data": {
      "text/html": [
       "<div>\n",
       "<style scoped>\n",
       "    .dataframe tbody tr th:only-of-type {\n",
       "        vertical-align: middle;\n",
       "    }\n",
       "\n",
       "    .dataframe tbody tr th {\n",
       "        vertical-align: top;\n",
       "    }\n",
       "\n",
       "    .dataframe thead th {\n",
       "        text-align: right;\n",
       "    }\n",
       "</style>\n",
       "<table border=\"1\" class=\"dataframe\">\n",
       "  <thead>\n",
       "    <tr style=\"text-align: right;\">\n",
       "      <th></th>\n",
       "      <th>Autonomy</th>\n",
       "      <th>Race/Ethnicity</th>\n",
       "      <th>count</th>\n",
       "    </tr>\n",
       "  </thead>\n",
       "  <tbody>\n",
       "    <tr>\n",
       "      <th>0</th>\n",
       "      <td>All Disagrees</td>\n",
       "      <td>Black, non-Hispanic</td>\n",
       "      <td>50</td>\n",
       "    </tr>\n",
       "    <tr>\n",
       "      <th>1</th>\n",
       "      <td>All Disagrees</td>\n",
       "      <td>Hispanic/Latina</td>\n",
       "      <td>240</td>\n",
       "    </tr>\n",
       "    <tr>\n",
       "      <th>2</th>\n",
       "      <td>All Disagrees</td>\n",
       "      <td>Other</td>\n",
       "      <td>75</td>\n",
       "    </tr>\n",
       "    <tr>\n",
       "      <th>3</th>\n",
       "      <td>All Disagrees</td>\n",
       "      <td>White, non-Hispanic</td>\n",
       "      <td>98</td>\n",
       "    </tr>\n",
       "    <tr>\n",
       "      <th>4</th>\n",
       "      <td>Strongly Agree &amp; Agree</td>\n",
       "      <td>Black, non-Hispanic</td>\n",
       "      <td>111</td>\n",
       "    </tr>\n",
       "  </tbody>\n",
       "</table>\n",
       "</div>"
      ],
      "text/plain": [
       "                 Autonomy       Race/Ethnicity  count\n",
       "0           All Disagrees  Black, non-Hispanic     50\n",
       "1           All Disagrees      Hispanic/Latina    240\n",
       "2           All Disagrees                Other     75\n",
       "3           All Disagrees  White, non-Hispanic     98\n",
       "4  Strongly Agree & Agree  Black, non-Hispanic    111"
      ]
     },
     "execution_count": 487,
     "metadata": {},
     "output_type": "execute_result"
    }
   ],
   "source": [
    "# check the counts for the second subplot\n",
    "viz1 = tbl1.groupby(['Autonomy','Race/Ethnicity'])['LTMID'].count().reset_index().rename(columns={'LTMID':'count'})\n",
    "viz1.head()"
   ]
  },
  {
   "cell_type": "code",
   "execution_count": 488,
   "metadata": {},
   "outputs": [
    {
     "data": {
      "text/plain": [
       "False"
      ]
     },
     "execution_count": 488,
     "metadata": {},
     "output_type": "execute_result"
    }
   ],
   "source": [
    "viz1['count'].sum() == tbl1['LTMID'].count()"
   ]
  },
  {
   "cell_type": "code",
   "execution_count": 489,
   "metadata": {},
   "outputs": [
    {
     "data": {
      "text/plain": [
       "22"
      ]
     },
     "execution_count": 489,
     "metadata": {},
     "output_type": "execute_result"
    }
   ],
   "source": [
    "tbl1['Race/Ethnicity'].isnull().sum()"
   ]
  },
  {
   "cell_type": "code",
   "execution_count": 490,
   "metadata": {},
   "outputs": [
    {
     "data": {
      "text/html": [
       "<div>\n",
       "<style scoped>\n",
       "    .dataframe tbody tr th:only-of-type {\n",
       "        vertical-align: middle;\n",
       "    }\n",
       "\n",
       "    .dataframe tbody tr th {\n",
       "        vertical-align: top;\n",
       "    }\n",
       "\n",
       "    .dataframe thead th {\n",
       "        text-align: right;\n",
       "    }\n",
       "</style>\n",
       "<table border=\"1\" class=\"dataframe\">\n",
       "  <thead>\n",
       "    <tr style=\"text-align: right;\">\n",
       "      <th></th>\n",
       "      <th>Autonomy</th>\n",
       "      <th>Education</th>\n",
       "      <th>count</th>\n",
       "    </tr>\n",
       "  </thead>\n",
       "  <tbody>\n",
       "    <tr>\n",
       "      <th>0</th>\n",
       "      <td>All Disagrees</td>\n",
       "      <td>Associate degree or College Degree</td>\n",
       "      <td>110</td>\n",
       "    </tr>\n",
       "    <tr>\n",
       "      <th>1</th>\n",
       "      <td>All Disagrees</td>\n",
       "      <td>Graduate school</td>\n",
       "      <td>59</td>\n",
       "    </tr>\n",
       "    <tr>\n",
       "      <th>2</th>\n",
       "      <td>All Disagrees</td>\n",
       "      <td>Less than high school - high school</td>\n",
       "      <td>153</td>\n",
       "    </tr>\n",
       "    <tr>\n",
       "      <th>3</th>\n",
       "      <td>All Disagrees</td>\n",
       "      <td>Some college, but no degree</td>\n",
       "      <td>138</td>\n",
       "    </tr>\n",
       "    <tr>\n",
       "      <th>4</th>\n",
       "      <td>All Disagrees</td>\n",
       "      <td>Some graduate school, but no degree</td>\n",
       "      <td>7</td>\n",
       "    </tr>\n",
       "  </tbody>\n",
       "</table>\n",
       "</div>"
      ],
      "text/plain": [
       "        Autonomy                            Education  count\n",
       "0  All Disagrees   Associate degree or College Degree    110\n",
       "1  All Disagrees                      Graduate school     59\n",
       "2  All Disagrees  Less than high school - high school    153\n",
       "3  All Disagrees          Some college, but no degree    138\n",
       "4  All Disagrees  Some graduate school, but no degree      7"
      ]
     },
     "execution_count": 490,
     "metadata": {},
     "output_type": "execute_result"
    }
   ],
   "source": [
    "# check the counts for the third subplot\n",
    "viz1 = tbl1.groupby(['Autonomy','Education'])['LTMID'].count().reset_index().rename(columns={'LTMID':'count'})\n",
    "viz1.head()"
   ]
  },
  {
   "cell_type": "code",
   "execution_count": 441,
   "metadata": {},
   "outputs": [
    {
     "data": {
      "text/plain": [
       "True"
      ]
     },
     "execution_count": 441,
     "metadata": {},
     "output_type": "execute_result"
    }
   ],
   "source": [
    "viz1['count'].sum() == tbl1['LTMID'].count()"
   ]
  },
  {
   "cell_type": "code",
   "execution_count": 492,
   "metadata": {},
   "outputs": [
    {
     "data": {
      "text/html": [
       "<div>\n",
       "<style scoped>\n",
       "    .dataframe tbody tr th:only-of-type {\n",
       "        vertical-align: middle;\n",
       "    }\n",
       "\n",
       "    .dataframe tbody tr th {\n",
       "        vertical-align: top;\n",
       "    }\n",
       "\n",
       "    .dataframe thead th {\n",
       "        text-align: right;\n",
       "    }\n",
       "</style>\n",
       "<table border=\"1\" class=\"dataframe\">\n",
       "  <thead>\n",
       "    <tr style=\"text-align: right;\">\n",
       "      <th></th>\n",
       "      <th>Autonomy</th>\n",
       "      <th>Education</th>\n",
       "      <th>count</th>\n",
       "    </tr>\n",
       "  </thead>\n",
       "  <tbody>\n",
       "    <tr>\n",
       "      <th>0</th>\n",
       "      <td>All Disagrees</td>\n",
       "      <td>Associate degree or College Degree</td>\n",
       "      <td>110</td>\n",
       "    </tr>\n",
       "    <tr>\n",
       "      <th>1</th>\n",
       "      <td>All Disagrees</td>\n",
       "      <td>Graduate school</td>\n",
       "      <td>59</td>\n",
       "    </tr>\n",
       "    <tr>\n",
       "      <th>2</th>\n",
       "      <td>All Disagrees</td>\n",
       "      <td>Less than high school - high school</td>\n",
       "      <td>153</td>\n",
       "    </tr>\n",
       "    <tr>\n",
       "      <th>3</th>\n",
       "      <td>All Disagrees</td>\n",
       "      <td>Some college, but no degree</td>\n",
       "      <td>138</td>\n",
       "    </tr>\n",
       "    <tr>\n",
       "      <th>4</th>\n",
       "      <td>All Disagrees</td>\n",
       "      <td>Some graduate school, but no degree</td>\n",
       "      <td>7</td>\n",
       "    </tr>\n",
       "  </tbody>\n",
       "</table>\n",
       "</div>"
      ],
      "text/plain": [
       "        Autonomy                            Education  count\n",
       "0  All Disagrees   Associate degree or College Degree    110\n",
       "1  All Disagrees                      Graduate school     59\n",
       "2  All Disagrees  Less than high school - high school    153\n",
       "3  All Disagrees          Some college, but no degree    138\n",
       "4  All Disagrees  Some graduate school, but no degree      7"
      ]
     },
     "execution_count": 492,
     "metadata": {},
     "output_type": "execute_result"
    }
   ],
   "source": [
    "# check the counts for the fourth subplot\n",
    "viz1 = tbl1.groupby(['Autonomy','Education'])['LTMID'].count().reset_index().rename(columns={'LTMID':'count'})\n",
    "viz1.head()"
   ]
  },
  {
   "cell_type": "code",
   "execution_count": 493,
   "metadata": {},
   "outputs": [
    {
     "data": {
      "text/plain": [
       "array(['Some college, but no degree',\n",
       "       'Some graduate school, but no degree',\n",
       "       'Less than high school - high school',\n",
       "       'Associate degree or College Degree', 'Graduate school'],\n",
       "      dtype=object)"
      ]
     },
     "execution_count": 493,
     "metadata": {},
     "output_type": "execute_result"
    }
   ],
   "source": [
    "tbl1['Education'].unique()"
   ]
  },
  {
   "cell_type": "code",
   "execution_count": 444,
   "metadata": {},
   "outputs": [
    {
     "data": {
      "text/plain": [
       "True"
      ]
     },
     "execution_count": 444,
     "metadata": {},
     "output_type": "execute_result"
    }
   ],
   "source": [
    "viz1['count'].sum() == tbl1['LTMID'].count()"
   ]
  },
  {
   "cell_type": "code",
   "execution_count": 511,
   "metadata": {},
   "outputs": [
    {
     "data": {
      "image/png": "[encoded data removed]",
      "text/plain": [
       "<Figure size 300x800 with 4 Axes>"
      ]
     },
     "metadata": {
      "needs_background": "light"
     },
     "output_type": "display_data"
    }
   ],
   "source": [
    "fig, (ax1, ax2, ax3, ax4) = plt.subplots(4, 1, figsize=(3,8), sharex=True, dpi=100)\n",
    "\n",
    "# create the subplots\n",
    "ax = sns.countplot(data=tbl1, y='Maternal Age', hue='Autonomy', ax=ax1)\n",
    "for container in ax.containers:\n",
    "    ax.bar_label(container)\n",
    "\n",
    "ax = sns.countplot(data=tbl1, y='Race/Ethnicity', hue='Autonomy', ax=ax2)\n",
    "for container in ax.containers:\n",
    "    ax.bar_label(container)\n",
    "\n",
    "ax = sns.countplot(data=tbl1, y='Education', hue='Autonomy', ax=ax3)\n",
    "for container in ax.containers:\n",
    "    ax.bar_label(container)\n",
    "\n",
    "ax = sns.countplot(data=tbl1, y='Mode of Delivery', hue='Autonomy', ax=ax4)\n",
    "for container in ax.containers:\n",
    "    ax.bar_label(container)\n",
    "\n",
    "plt.rc('font', size=8)          # controls default text sizes\n",
    "plt.rc('axes', titlesize=10)     # fontsize of the axes title\n",
    "\n",
    "sns.move_legend(\n",
    "    ax1, \"lower center\",\n",
    "    bbox_to_anchor=(.5, 1), ncol=3, frameon=False, title=None\n",
    ")\n",
    "\n",
    "ax1.set(xlabel=None)\n",
    "ax1.tick_params(bottom=False)  # remove the ticks\n",
    "ax1.spines['top'].set_visible(False)\n",
    "ax1.spines['right'].set_visible(False)\n",
    "ax1.spines['bottom'].set_visible(False)\n",
    "ax1.spines['left'].set_visible(False)\n",
    "\n",
    "ax2.set(xlabel=None)\n",
    "ax2.tick_params(bottom=False)  # remove the ticks\n",
    "ax2.legend_.remove()\n",
    "ax2.spines['top'].set_visible(False)\n",
    "ax2.spines['right'].set_visible(False)\n",
    "ax2.spines['bottom'].set_visible(False)\n",
    "ax2.spines['left'].set_visible(False)\n",
    "\n",
    "ax3.set(xlabel=None)\n",
    "ax3.tick_params(bottom=False)  # remove the ticks\n",
    "ax3.legend_.remove()\n",
    "ax3.spines['top'].set_visible(False)\n",
    "ax3.spines['right'].set_visible(False)\n",
    "ax3.spines['bottom'].set_visible(False)\n",
    "ax3.spines['left'].set_visible(False)\n",
    "\n",
    "ax4.set(xlabel=None)\n",
    "ax4.set(xticklabels=[])  \n",
    "ax4.tick_params(bottom=False)  # remove the ticks\n",
    "ax4.legend_.remove()\n",
    "ax4.spines['top'].set_visible(False)\n",
    "ax4.spines['right'].set_visible(False)\n",
    "ax4.spines['bottom'].set_visible(False)\n",
    "ax4.spines['left'].set_visible(False)\n",
    "\n",
    "#plt.suptitle(\"\"\"\n",
    "#Demographic characteristics of the participants:\n",
    "#The association between those who disagreed to decision-making autonomy and mode of delivery,\n",
    "#Listening to Mothers in California (LTM-CA), 2017 (n=1477)\"\"\"\n",
    "#, wrap=True)\n",
    "plt.show()"
   ]
  },
  {
   "attachments": {},
   "cell_type": "markdown",
   "metadata": {},
   "source": [
    "#### Figure 2. Unadjusted Odds Ratios (OR) and 95% Confidence Interval (CI) of the association between autonomy and unplanned cesareans"
   ]
  },
  {
   "cell_type": "code",
   "execution_count": 237,
   "metadata": {},
   "outputs": [],
   "source": [
    "import forestplot as fp"
   ]
  },
  {
   "cell_type": "code",
   "execution_count": 313,
   "metadata": {},
   "outputs": [
    {
     "data": {
      "text/html": [
       "<div>\n",
       "<style scoped>\n",
       "    .dataframe tbody tr th:only-of-type {\n",
       "        vertical-align: middle;\n",
       "    }\n",
       "\n",
       "    .dataframe tbody tr th {\n",
       "        vertical-align: top;\n",
       "    }\n",
       "\n",
       "    .dataframe thead th {\n",
       "        text-align: right;\n",
       "    }\n",
       "</style>\n",
       "<table border=\"1\" class=\"dataframe\">\n",
       "  <thead>\n",
       "    <tr style=\"text-align: right;\">\n",
       "      <th></th>\n",
       "      <th>or</th>\n",
       "      <th>p-val</th>\n",
       "      <th>ll</th>\n",
       "      <th>hl</th>\n",
       "      <th>moerror</th>\n",
       "      <th>group</th>\n",
       "      <th>label</th>\n",
       "    </tr>\n",
       "  </thead>\n",
       "  <tbody>\n",
       "    <tr>\n",
       "      <th>0</th>\n",
       "      <td>1.318</td>\n",
       "      <td>0.0885</td>\n",
       "      <td>0.959</td>\n",
       "      <td>1.810</td>\n",
       "      <td>0.1619</td>\n",
       "      <td>Perceived Autonomy (ref = \"Agrees\")</td>\n",
       "      <td>All Disagrees</td>\n",
       "    </tr>\n",
       "    <tr>\n",
       "      <th>1</th>\n",
       "      <td>2.099</td>\n",
       "      <td>0.0024</td>\n",
       "      <td>1.300</td>\n",
       "      <td>3.390</td>\n",
       "      <td>0.2442</td>\n",
       "      <td>Race/Ethnicity (ref = White, non-Hispanic)</td>\n",
       "      <td>Black, non-Hispanic</td>\n",
       "    </tr>\n",
       "    <tr>\n",
       "      <th>2</th>\n",
       "      <td>0.973</td>\n",
       "      <td>0.8855</td>\n",
       "      <td>0.667</td>\n",
       "      <td>1.418</td>\n",
       "      <td>0.1923</td>\n",
       "      <td>Race/Ethnicity (ref = White, non-Hispanic)</td>\n",
       "      <td>Hispanic/Latina</td>\n",
       "    </tr>\n",
       "    <tr>\n",
       "      <th>3</th>\n",
       "      <td>1.030</td>\n",
       "      <td>0.8954</td>\n",
       "      <td>0.666</td>\n",
       "      <td>1.593</td>\n",
       "      <td>0.2225</td>\n",
       "      <td>Race/Ethnicity (ref = White, non-Hispanic)</td>\n",
       "      <td>Other</td>\n",
       "    </tr>\n",
       "    <tr>\n",
       "      <th>4</th>\n",
       "      <td>1.241</td>\n",
       "      <td>0.2833</td>\n",
       "      <td>0.837</td>\n",
       "      <td>1.839</td>\n",
       "      <td>0.2008</td>\n",
       "      <td>Age (ref = Less than 25 years old)</td>\n",
       "      <td>25-34</td>\n",
       "    </tr>\n",
       "    <tr>\n",
       "      <th>5</th>\n",
       "      <td>1.105</td>\n",
       "      <td>0.6924</td>\n",
       "      <td>0.674</td>\n",
       "      <td>1.811</td>\n",
       "      <td>0.2519</td>\n",
       "      <td>Age (ref = Less than 25 years old)</td>\n",
       "      <td>35 and older</td>\n",
       "    </tr>\n",
       "    <tr>\n",
       "      <th>6</th>\n",
       "      <td>1.456</td>\n",
       "      <td>1.4560</td>\n",
       "      <td>0.948</td>\n",
       "      <td>2.239</td>\n",
       "      <td>0.2192</td>\n",
       "      <td>Education (ref = Less than High School - High ...</td>\n",
       "      <td>Associate degree or College Degree</td>\n",
       "    </tr>\n",
       "    <tr>\n",
       "      <th>7</th>\n",
       "      <td>1.679</td>\n",
       "      <td>0.0864</td>\n",
       "      <td>0.999</td>\n",
       "      <td>2.824</td>\n",
       "      <td>0.2651</td>\n",
       "      <td>Education (ref = Less than High School - High ...</td>\n",
       "      <td>Graduate school</td>\n",
       "    </tr>\n",
       "    <tr>\n",
       "      <th>8</th>\n",
       "      <td>1.328</td>\n",
       "      <td>0.0506</td>\n",
       "      <td>0.886</td>\n",
       "      <td>1.989</td>\n",
       "      <td>0.2061</td>\n",
       "      <td>Education (ref = Less than High School - High ...</td>\n",
       "      <td>Some college, but no degree</td>\n",
       "    </tr>\n",
       "    <tr>\n",
       "      <th>9</th>\n",
       "      <td>1.357</td>\n",
       "      <td>0.1689</td>\n",
       "      <td>0.485</td>\n",
       "      <td>3.797</td>\n",
       "      <td>0.5246</td>\n",
       "      <td>Education (ref = Less than High School - High ...</td>\n",
       "      <td>Some graduate school, but no degree</td>\n",
       "    </tr>\n",
       "  </tbody>\n",
       "</table>\n",
       "</div>"
      ],
      "text/plain": [
       "      or   p-val     ll     hl  moerror  \\\n",
       "0  1.318  0.0885  0.959  1.810   0.1619   \n",
       "1  2.099  0.0024  1.300  3.390   0.2442   \n",
       "2  0.973  0.8855  0.667  1.418   0.1923   \n",
       "3  1.030  0.8954  0.666  1.593   0.2225   \n",
       "4  1.241  0.2833  0.837  1.839   0.2008   \n",
       "5  1.105  0.6924  0.674  1.811   0.2519   \n",
       "6  1.456  1.4560  0.948  2.239   0.2192   \n",
       "7  1.679  0.0864  0.999  2.824   0.2651   \n",
       "8  1.328  0.0506  0.886  1.989   0.2061   \n",
       "9  1.357  0.1689  0.485  3.797   0.5246   \n",
       "\n",
       "                                               group  \\\n",
       "0                Perceived Autonomy (ref = \"Agrees\")   \n",
       "1         Race/Ethnicity (ref = White, non-Hispanic)   \n",
       "2         Race/Ethnicity (ref = White, non-Hispanic)   \n",
       "3         Race/Ethnicity (ref = White, non-Hispanic)   \n",
       "4                 Age (ref = Less than 25 years old)   \n",
       "5                 Age (ref = Less than 25 years old)   \n",
       "6  Education (ref = Less than High School - High ...   \n",
       "7  Education (ref = Less than High School - High ...   \n",
       "8  Education (ref = Less than High School - High ...   \n",
       "9  Education (ref = Less than High School - High ...   \n",
       "\n",
       "                                 label  \n",
       "0                        All Disagrees  \n",
       "1                  Black, non-Hispanic  \n",
       "2                      Hispanic/Latina  \n",
       "3                                Other  \n",
       "4                                25-34  \n",
       "5                         35 and older  \n",
       "6   Associate degree or College Degree  \n",
       "7                     Graduate school   \n",
       "8          Some college, but no degree  \n",
       "9  Some graduate school, but no degree  "
      ]
     },
     "execution_count": 313,
     "metadata": {},
     "output_type": "execute_result"
    }
   ],
   "source": [
    "filepath = r\"C:\\Users\\Nigel\\Git\\perinatal_epi\\Data\\adjusted_odds_ratios.csv\"\n",
    "\n",
    "df = pd.read_csv(filepath)\n",
    "df"
   ]
  },
  {
   "cell_type": "code",
   "execution_count": 377,
   "metadata": {},
   "outputs": [
    {
     "data": {
      "text/plain": [
       "<AxesSubplot:xlabel='Adjusted Odds Ratios'>"
      ]
     },
     "execution_count": 377,
     "metadata": {},
     "output_type": "execute_result"
    },
    {
     "data": {
      "image/png": "[encoded data removed]",
      "text/plain": [
       "<Figure size 216x720 with 1 Axes>"
      ]
     },
     "metadata": {},
     "output_type": "display_data"
    }
   ],
   "source": [
    "fp.forestplot(df,  # the dataframe with results data  \n",
    "              estimate=\"or\",  # col containing estimated effect size\n",
    "              ll=\"ll\", hl=\"hl\",  # lower & higher limits of conf. int.\n",
    "              moerror=\"moerror\",  # columns containing conf. int. margin of error\n",
    "              varlabel=\"label\",  # column containing variable label\n",
    "              #capitalize=\"capitalize\",  # Capitalize labels\n",
    "              groupvar=\"group\",  # Add variable grouping\n",
    "              pval=\"p-val\",  # Column of p-value to be reported on right\n",
    "              group_order=['Perceived Autonomy (ref = \"Agrees\")', \"Race/Ethnicity (ref = White, non-Hispanic)\",\n",
    "                        \"Age (ref = Less than 25 years old)\", 'Education (ref = Less than High School - High School)'],\n",
    "              sort=True,  # sort in ascending order (sorts within group if group is specified)\n",
    "              annote=[\"or\", \"est_ci\"],  # columns to report on left of plot\n",
    "              annoteheaders=[\"aOR\", \"Est. (95% Conf. Int.)\"],  # ^corresponding headers\n",
    "              table=True,\n",
    "              xlabel=\"Adjusted Odds Ratios\",  # x-label title\n",
    "              # Additional kwargs for customizations\n",
    "              **{\"marker\": \"D\",  # set maker symbol as diamond\n",
    "                 \"markersize\": 35,  # adjust marker size\n",
    "                 \"xtick_size\": 11,  # adjust x-ticker fontsize\n",
    "                 \"xlabel_size\":7,\n",
    "                 \"fontsize\":12\n",
    "                },\n",
    "              flush=True,\n",
    "              color_alt_rows=False,\n",
    "              figsize=(3,10)    \n",
    "              )"
   ]
  },
  {
   "attachments": {},
   "cell_type": "markdown",
   "metadata": {},
   "source": [
    "#### Figure 3. Unplanned Cesareans by Reason"
   ]
  },
  {
   "cell_type": "code",
   "execution_count": 387,
   "metadata": {},
   "outputs": [
    {
     "data": {
      "text/html": [
       "<div>\n",
       "<style scoped>\n",
       "    .dataframe tbody tr th:only-of-type {\n",
       "        vertical-align: middle;\n",
       "    }\n",
       "\n",
       "    .dataframe tbody tr th {\n",
       "        vertical-align: top;\n",
       "    }\n",
       "\n",
       "    .dataframe thead th {\n",
       "        text-align: right;\n",
       "    }\n",
       "</style>\n",
       "<table border=\"1\" class=\"dataframe\">\n",
       "  <thead>\n",
       "    <tr style=\"text-align: right;\">\n",
       "      <th></th>\n",
       "      <th>LTMID</th>\n",
       "      <th>raceeth</th>\n",
       "      <th>Q1255</th>\n",
       "      <th>Q1115</th>\n",
       "    </tr>\n",
       "  </thead>\n",
       "  <tbody>\n",
       "    <tr>\n",
       "      <th>37</th>\n",
       "      <td>70079h</td>\n",
       "      <td>Black, non-Hispanic</td>\n",
       "      <td>I or my baby had a health problem that require...</td>\n",
       "      <td>C-section</td>\n",
       "    </tr>\n",
       "    <tr>\n",
       "      <th>41</th>\n",
       "      <td>70099s</td>\n",
       "      <td>Other</td>\n",
       "      <td>My maternity care provider tried to start (ind...</td>\n",
       "      <td>C-section</td>\n",
       "    </tr>\n",
       "    <tr>\n",
       "      <th>46</th>\n",
       "      <td>70111r</td>\n",
       "      <td>Black, non-Hispanic</td>\n",
       "      <td>Some other reason. Please tell us:</td>\n",
       "      <td>C-section</td>\n",
       "    </tr>\n",
       "    <tr>\n",
       "      <th>56</th>\n",
       "      <td>70139z</td>\n",
       "      <td>Black, non-Hispanic</td>\n",
       "      <td>I or my baby had a health problem that require...</td>\n",
       "      <td>C-section</td>\n",
       "    </tr>\n",
       "    <tr>\n",
       "      <th>58</th>\n",
       "      <td>70142c</td>\n",
       "      <td>Black, non-Hispanic</td>\n",
       "      <td>Some other reason. Please tell us:</td>\n",
       "      <td>C-section</td>\n",
       "    </tr>\n",
       "    <tr>\n",
       "      <th>59</th>\n",
       "      <td>70149x</td>\n",
       "      <td>Black, non-Hispanic</td>\n",
       "      <td>My maternity care provider tried to start (ind...</td>\n",
       "      <td>C-section</td>\n",
       "    </tr>\n",
       "    <tr>\n",
       "      <th>65</th>\n",
       "      <td>70163r</td>\n",
       "      <td>Black, non-Hispanic</td>\n",
       "      <td>Some other reason. Please tell us:</td>\n",
       "      <td>C-section</td>\n",
       "    </tr>\n",
       "    <tr>\n",
       "      <th>69</th>\n",
       "      <td>70170r</td>\n",
       "      <td>Black, non-Hispanic</td>\n",
       "      <td>NaN</td>\n",
       "      <td>C-section</td>\n",
       "    </tr>\n",
       "    <tr>\n",
       "      <th>78</th>\n",
       "      <td>70200q</td>\n",
       "      <td>Black, non-Hispanic</td>\n",
       "      <td>NaN</td>\n",
       "      <td>C-section</td>\n",
       "    </tr>\n",
       "    <tr>\n",
       "      <th>89</th>\n",
       "      <td>70232x</td>\n",
       "      <td>Black, non-Hispanic</td>\n",
       "      <td>Some other reason. Please tell us:</td>\n",
       "      <td>C-section</td>\n",
       "    </tr>\n",
       "    <tr>\n",
       "      <th>90</th>\n",
       "      <td>70233b</td>\n",
       "      <td>Black, non-Hispanic</td>\n",
       "      <td>Some other reason. Please tell us:</td>\n",
       "      <td>C-section</td>\n",
       "    </tr>\n",
       "    <tr>\n",
       "      <th>91</th>\n",
       "      <td>70237a</td>\n",
       "      <td>Black, non-Hispanic</td>\n",
       "      <td>Some other reason. Please tell us:</td>\n",
       "      <td>C-section</td>\n",
       "    </tr>\n",
       "    <tr>\n",
       "      <th>94</th>\n",
       "      <td>70241g</td>\n",
       "      <td>Black, non-Hispanic</td>\n",
       "      <td>I or my baby had a health problem that require...</td>\n",
       "      <td>C-section</td>\n",
       "    </tr>\n",
       "    <tr>\n",
       "      <th>102</th>\n",
       "      <td>70279b</td>\n",
       "      <td>Black, non-Hispanic</td>\n",
       "      <td>I or my baby had a health problem that require...</td>\n",
       "      <td>C-section</td>\n",
       "    </tr>\n",
       "    <tr>\n",
       "      <th>103</th>\n",
       "      <td>70281a</td>\n",
       "      <td>Black, non-Hispanic</td>\n",
       "      <td>NaN</td>\n",
       "      <td>C-section</td>\n",
       "    </tr>\n",
       "    <tr>\n",
       "      <th>110</th>\n",
       "      <td>70307m</td>\n",
       "      <td>Black, non-Hispanic</td>\n",
       "      <td>My maternity care provider tried to start (ind...</td>\n",
       "      <td>C-section</td>\n",
       "    </tr>\n",
       "    <tr>\n",
       "      <th>112</th>\n",
       "      <td>70311k</td>\n",
       "      <td>Black, non-Hispanic</td>\n",
       "      <td>My maternity care provider was worried that th...</td>\n",
       "      <td>C-section</td>\n",
       "    </tr>\n",
       "    <tr>\n",
       "      <th>126</th>\n",
       "      <td>70345k</td>\n",
       "      <td>Black, non-Hispanic</td>\n",
       "      <td>My maternity care provider was worried that th...</td>\n",
       "      <td>C-section</td>\n",
       "    </tr>\n",
       "    <tr>\n",
       "      <th>127</th>\n",
       "      <td>70353w</td>\n",
       "      <td>Black, non-Hispanic</td>\n",
       "      <td>I or my baby had a health problem that require...</td>\n",
       "      <td>C-section</td>\n",
       "    </tr>\n",
       "    <tr>\n",
       "      <th>132</th>\n",
       "      <td>70361s</td>\n",
       "      <td>Black, non-Hispanic</td>\n",
       "      <td>My maternity care provider tried to start (ind...</td>\n",
       "      <td>C-section</td>\n",
       "    </tr>\n",
       "  </tbody>\n",
       "</table>\n",
       "</div>"
      ],
      "text/plain": [
       "      LTMID              raceeth  \\\n",
       "37   70079h  Black, non-Hispanic   \n",
       "41   70099s                Other   \n",
       "46   70111r  Black, non-Hispanic   \n",
       "56   70139z  Black, non-Hispanic   \n",
       "58   70142c  Black, non-Hispanic   \n",
       "59   70149x  Black, non-Hispanic   \n",
       "65   70163r  Black, non-Hispanic   \n",
       "69   70170r  Black, non-Hispanic   \n",
       "78   70200q  Black, non-Hispanic   \n",
       "89   70232x  Black, non-Hispanic   \n",
       "90   70233b  Black, non-Hispanic   \n",
       "91   70237a  Black, non-Hispanic   \n",
       "94   70241g  Black, non-Hispanic   \n",
       "102  70279b  Black, non-Hispanic   \n",
       "103  70281a  Black, non-Hispanic   \n",
       "110  70307m  Black, non-Hispanic   \n",
       "112  70311k  Black, non-Hispanic   \n",
       "126  70345k  Black, non-Hispanic   \n",
       "127  70353w  Black, non-Hispanic   \n",
       "132  70361s  Black, non-Hispanic   \n",
       "\n",
       "                                                 Q1255      Q1115  \n",
       "37   I or my baby had a health problem that require...  C-section  \n",
       "41   My maternity care provider tried to start (ind...  C-section  \n",
       "46                  Some other reason. Please tell us:  C-section  \n",
       "56   I or my baby had a health problem that require...  C-section  \n",
       "58                  Some other reason. Please tell us:  C-section  \n",
       "59   My maternity care provider tried to start (ind...  C-section  \n",
       "65                  Some other reason. Please tell us:  C-section  \n",
       "69                                                 NaN  C-section  \n",
       "78                                                 NaN  C-section  \n",
       "89                  Some other reason. Please tell us:  C-section  \n",
       "90                  Some other reason. Please tell us:  C-section  \n",
       "91                  Some other reason. Please tell us:  C-section  \n",
       "94   I or my baby had a health problem that require...  C-section  \n",
       "102  I or my baby had a health problem that require...  C-section  \n",
       "103                                                NaN  C-section  \n",
       "110  My maternity care provider tried to start (ind...  C-section  \n",
       "112  My maternity care provider was worried that th...  C-section  \n",
       "126  My maternity care provider was worried that th...  C-section  \n",
       "127  I or my baby had a health problem that require...  C-section  \n",
       "132  My maternity care provider tried to start (ind...  C-section  "
      ]
     },
     "execution_count": 387,
     "metadata": {},
     "output_type": "execute_result"
    }
   ],
   "source": [
    "fig3 = ltm[['LTMID','raceeth','Q1255','Q1115']]\n",
    "fig3 = fig3[fig3['Q1115']!='Vaginal']\n",
    "fig3.head(20)"
   ]
  },
  {
   "cell_type": "code",
   "execution_count": 392,
   "metadata": {},
   "outputs": [
    {
     "data": {
      "text/html": [
       "<div>\n",
       "<style scoped>\n",
       "    .dataframe tbody tr th:only-of-type {\n",
       "        vertical-align: middle;\n",
       "    }\n",
       "\n",
       "    .dataframe tbody tr th {\n",
       "        vertical-align: top;\n",
       "    }\n",
       "\n",
       "    .dataframe thead th {\n",
       "        text-align: right;\n",
       "    }\n",
       "</style>\n",
       "<table border=\"1\" class=\"dataframe\">\n",
       "  <thead>\n",
       "    <tr style=\"text-align: right;\">\n",
       "      <th></th>\n",
       "      <th>raceeth</th>\n",
       "      <th>Q1255</th>\n",
       "      <th>LTMID</th>\n",
       "    </tr>\n",
       "  </thead>\n",
       "  <tbody>\n",
       "    <tr>\n",
       "      <th>0</th>\n",
       "      <td>Black, non-Hispanic</td>\n",
       "      <td>I or my baby had a health problem that require...</td>\n",
       "      <td>15</td>\n",
       "    </tr>\n",
       "    <tr>\n",
       "      <th>1</th>\n",
       "      <td>Black, non-Hispanic</td>\n",
       "      <td>My maternity care provider tried to start (ind...</td>\n",
       "      <td>7</td>\n",
       "    </tr>\n",
       "    <tr>\n",
       "      <th>2</th>\n",
       "      <td>Black, non-Hispanic</td>\n",
       "      <td>My maternity care provider was worried that th...</td>\n",
       "      <td>2</td>\n",
       "    </tr>\n",
       "    <tr>\n",
       "      <th>3</th>\n",
       "      <td>Black, non-Hispanic</td>\n",
       "      <td>Some other reason. Please tell us:</td>\n",
       "      <td>10</td>\n",
       "    </tr>\n",
       "    <tr>\n",
       "      <th>4</th>\n",
       "      <td>Hispanic/Latina</td>\n",
       "      <td>For a non-medical reason – it did not offer a ...</td>\n",
       "      <td>1</td>\n",
       "    </tr>\n",
       "  </tbody>\n",
       "</table>\n",
       "</div>"
      ],
      "text/plain": [
       "               raceeth                                              Q1255  \\\n",
       "0  Black, non-Hispanic  I or my baby had a health problem that require...   \n",
       "1  Black, non-Hispanic  My maternity care provider tried to start (ind...   \n",
       "2  Black, non-Hispanic  My maternity care provider was worried that th...   \n",
       "3  Black, non-Hispanic                 Some other reason. Please tell us:   \n",
       "4      Hispanic/Latina  For a non-medical reason – it did not offer a ...   \n",
       "\n",
       "   LTMID  \n",
       "0     15  \n",
       "1      7  \n",
       "2      2  \n",
       "3     10  \n",
       "4      1  "
      ]
     },
     "execution_count": 392,
     "metadata": {},
     "output_type": "execute_result"
    }
   ],
   "source": [
    "fig3 = fig3.groupby(['raceeth','Q1255'])['LTMID'].count().reset_index()\n",
    "fig3.head()"
   ]
  },
  {
   "cell_type": "code",
   "execution_count": 424,
   "metadata": {},
   "outputs": [
    {
     "data": {
      "text/plain": [
       "212"
      ]
     },
     "execution_count": 424,
     "metadata": {},
     "output_type": "execute_result"
    }
   ],
   "source": [
    "fig3.LTMID.sum()"
   ]
  },
  {
   "cell_type": "code",
   "execution_count": 423,
   "metadata": {},
   "outputs": [
    {
     "data": {
      "image/png": "[encoded data removed]",
      "text/plain": [
       "<Figure size 1144.8x432 with 1 Axes>"
      ]
     },
     "metadata": {
      "needs_background": "light"
     },
     "output_type": "display_data"
    }
   ],
   "source": [
    "\n",
    "g = sns.catplot(\n",
    "    data=fig3, kind=\"bar\",\n",
    "    x=\"raceeth\", y=\"LTMID\", hue=\"Q1255\",\n",
    "    #errorbar=\"sd\",\n",
    "    #palette=\"dark\",\n",
    "    #alpha=.6,\n",
    "    height=6,\n",
    "    legend_out=True,\n",
    "    aspect=20/10\n",
    ")\n",
    "g.despine(left=True)\n",
    "g.set_axis_labels(\"Race/Ethnicity\", \"Count\")\n",
    "g.legend.set_title(\"Reasons\")\n"
   ]
  },
  {
   "cell_type": "code",
   "execution_count": 472,
   "metadata": {},
   "outputs": [
    {
     "data": {
      "text/plain": [
       "46      Baby pooped in sac. was told it was dangerous ...\n",
       "58                      My babies heart rate was dropping\n",
       "65                                         She got stuck.\n",
       "89      I was told my baby could have brain damage if ...\n",
       "90      BECAUSE MY EPIDURAL DIDNT WORK AND BECASUE THE...\n",
       "91                       my son's heartrate was dropping.\n",
       "163                     because babys heart rate dropping\n",
       "165                    he was too long and I couldnt push\n",
       "173                                Got stuck stuck at 8cm\n",
       "335     My baby was so big he would not engage into th...\n",
       "337              Heart distress on baby Emergency cesarea\n",
       "396     it wa sthe physician's choice just me not open...\n",
       "404     Stopped dilating due to cord being around his ...\n",
       "433     Baby was face up and stuck. Would not come dow...\n",
       "434     Baby was posterior and could not pass though a...\n",
       "468     She was facing the wrong way and the epidural ...\n",
       "581                I had high blood pressure and a fever.\n",
       "592     I started to get a fever and get sick which ca...\n",
       "624     My maternity care provider was worried that th...\n",
       "671                                    Placenta abruption\n",
       "684     I DIDNT GET DIALATED ENOUGH MY LABOR DID PROGR...\n",
       "712                                     Baby was Breached\n",
       "725     every time I had a contraction, baby's heart r...\n",
       "735     MY LABOR WAS TOO LONG AND I NEEDED OXYGEN TO B...\n",
       "769     I was in labor for too long and my water had b...\n",
       "779     I had an infection and high fever by the time ...\n",
       "785                                   failure to progress\n",
       "806     because my labor had dilated a lot and my baby...\n",
       "908     decels, poor fetal tolerance to prolonged labo...\n",
       "917     I went in on a Friday and my baby was head dow...\n",
       "1067                                          Cholestatis\n",
       "1079    I couldnt get her out. I pushed for three hour...\n",
       "1089    water broke over 24 hrs in labor, unable to di...\n",
       "1109                       Water had broke 28 hours prior\n",
       "1122     Babys position wouldn't allow me to push her out\n",
       "1147    babies heart rate dropped, so my doc decided t...\n",
       "1159    I was not dilating fully and umbilical cord wa...\n",
       "1225                                 Baby was in distress\n",
       "1229    My water broke and I did not go into labor for...\n",
       "1255    with the pitocin and the time it was taking he...\n",
       "1258    Fetal distress for a week of monitoring prior ...\n",
       "1264    Emergency C-section. Baby's head stocked in th...\n",
       "1279                                      Breech position\n",
       "1285                Baby heart rate erratic, not dilating\n",
       "1293    i was too many hours in labor and it wasn't pr...\n",
       "1373             baby did not tolerate induction of labor\n",
       "1376    baby's head wouldn't move down & not coning, m...\n",
       "1378                                   heart rate dropped\n",
       "1407    Baby was sideways and unable to fit through canal\n",
       "1435                          did not dialeted big enough\n",
       "1491    MY BABY DIDNT COME OUT AAFTER 24 HOURS OF LABO...\n",
       "1809                                because he was breech\n",
       "1837    My doctor told me to stay at a dilation of 5 o...\n",
       "Name: Q1255_TEXT, dtype: object"
      ]
     },
     "execution_count": 472,
     "metadata": {},
     "output_type": "execute_result"
    }
   ],
   "source": [
    "ltm[ltm['Q1255_TEXT'].notnull()]['Q1255_TEXT']"
   ]
  },
  {
   "cell_type": "code",
   "execution_count": 473,
   "metadata": {},
   "outputs": [
    {
     "data": {
      "text/plain": [
       "78      10+Pain in left side of abdomen, (about to rup...\n",
       "153                                    my baby was breech\n",
       "748                     Baby flipped breech during labor.\n",
       "1149    After 28 hours of labor on pitocin, i dilated ...\n",
       "1374    The chances were too low of having a vaginal b...\n",
       "1500                                  Failure to progress\n",
       "1587    because in one clinic they told me that I coul...\n",
       "1910                                   I wasn't dialating\n",
       "1920    I was not dilating enough and I already had fr...\n",
       "Name: Q1260_TEXT, dtype: object"
      ]
     },
     "execution_count": 473,
     "metadata": {},
     "output_type": "execute_result"
    }
   ],
   "source": [
    "ltm[ltm['Q1260_TEXT'].notnull()]['Q1260_TEXT']"
   ]
  },
  {
   "cell_type": "code",
   "execution_count": null,
   "metadata": {},
   "outputs": [],
   "source": []
  }
 ],
 "metadata": {
  "kernelspec": {
   "display_name": "sandbox",
   "language": "python",
   "name": "python3"
  },
  "language_info": {
   "codemirror_mode": {
    "name": "ipython",
    "version": 3
   },
   "file_extension": ".py",
   "mimetype": "text/x-python",
   "name": "python",
   "nbconvert_exporter": "python",
   "pygments_lexer": "ipython3",
   "version": "3.9.7"
  },
  "orig_nbformat": 4,
  "vscode": {
   "interpreter": {
    "hash": "9edaa387a9daac6546323b0994afd49220921f5b1d6adc0b9492dea48c1d284f"
   }
  }
 },
 "nbformat": 4,
 "nbformat_minor": 2
}
